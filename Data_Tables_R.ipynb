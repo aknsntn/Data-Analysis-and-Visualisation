{
  "nbformat": 4,
  "nbformat_minor": 0,
  "metadata": {
    "colab": {
      "name": "Data Tables R",
      "provenance": [],
      "collapsed_sections": [],
      "authorship_tag": "ABX9TyMms/Cf9zUX3HjUtoVqdb1R",
      "include_colab_link": true
    },
    "kernelspec": {
      "name": "ir",
      "display_name": "R"
    },
    "language_info": {
      "name": "R"
    }
  },
  "cells": [
    {
      "cell_type": "markdown",
      "metadata": {
        "id": "view-in-github",
        "colab_type": "text"
      },
      "source": [
        "<a href=\"https://colab.research.google.com/github/aknsntn/visualisation/blob/main/Data_Tables_R.ipynb\" target=\"_parent\"><img src=\"https://colab.research.google.com/assets/colab-badge.svg\" alt=\"Open In Colab\"/></a>"
      ]
    },
    {
      "cell_type": "markdown",
      "source": [
        "Для выполнения заданий возьмите данные из папки [data](https://drive.google.com/drive/folders/17E4vB5kWr5FNjLKRU4XGoJSVTxn1jkg4?usp=sharing) о продажах. Данные распределены по 4 папкам:\n",
        "* sales_train.csv - данные о продажах с января 2013 по октябрь 2015.\n",
        "** date - дата продажы\n",
        "** date_block_num - номер месяца по порядку следования\n",
        "** shop_id - идентификатор магазина\n",
        "** item_id - идентификатор товара\n",
        "** item_price - цена товара\n",
        "** item_cnt_day - количество проданного товара одного вида в день\n",
        "\n",
        "* items.csv - подробная информация о товарах\n",
        "** item_id - идентификатор товара\n",
        "** item_name - название товара\n",
        "** category_id - идентификатор категории товара\n",
        "\n",
        "* item_categories.csv - подробная информация о категориях товаров\n",
        "** item_category_id - идентификатор категории товара\n",
        "** category_name - название категории товара\n",
        "\n",
        "* shops.csv - подробная информация о магазинах\n",
        "** shop_id - идентификатор магазина\n",
        "** shop_name - название магазина\n"
      ],
      "metadata": {
        "id": "hjEFDdH_X2hv"
      }
    },
    {
      "cell_type": "code",
      "source": [
        "install.packages(\"tidyverse\")"
      ],
      "metadata": {
        "colab": {
          "base_uri": "https://localhost:8080/"
        },
        "id": "tlaGUGj0fEGE",
        "outputId": "0cf32513-1a3a-423f-f0e2-911b07f4335c"
      },
      "execution_count": null,
      "outputs": [
        {
          "output_type": "stream",
          "name": "stderr",
          "text": [
            "Installing package into ‘/usr/local/lib/R/site-library’\n",
            "(as ‘lib’ is unspecified)\n",
            "\n"
          ]
        }
      ]
    },
    {
      "cell_type": "code",
      "source": [
        "library(tidyverse)"
      ],
      "metadata": {
        "colab": {
          "base_uri": "https://localhost:8080/"
        },
        "id": "NS91AOO57LkU",
        "outputId": "ee38940d-50c2-4162-ac64-730618bf9ada"
      },
      "execution_count": null,
      "outputs": [
        {
          "output_type": "stream",
          "name": "stderr",
          "text": [
            "Warning message in system(\"timedatectl\", intern = TRUE):\n",
            "“running command 'timedatectl' had status 1”\n",
            "── \u001b[1mAttaching packages\u001b[22m ─────────────────────────────────────── tidyverse 1.3.1 ──\n",
            "\n",
            "\u001b[32m✔\u001b[39m \u001b[34mggplot2\u001b[39m 3.3.5     \u001b[32m✔\u001b[39m \u001b[34mpurrr  \u001b[39m 0.3.4\n",
            "\u001b[32m✔\u001b[39m \u001b[34mtibble \u001b[39m 3.1.6     \u001b[32m✔\u001b[39m \u001b[34mdplyr  \u001b[39m 1.0.8\n",
            "\u001b[32m✔\u001b[39m \u001b[34mtidyr  \u001b[39m 1.2.0     \u001b[32m✔\u001b[39m \u001b[34mstringr\u001b[39m 1.4.0\n",
            "\u001b[32m✔\u001b[39m \u001b[34mreadr  \u001b[39m 2.1.2     \u001b[32m✔\u001b[39m \u001b[34mforcats\u001b[39m 0.5.1\n",
            "\n",
            "── \u001b[1mConflicts\u001b[22m ────────────────────────────────────────── tidyverse_conflicts() ──\n",
            "\u001b[31m✖\u001b[39m \u001b[34mdplyr\u001b[39m::\u001b[32mfilter()\u001b[39m masks \u001b[34mstats\u001b[39m::filter()\n",
            "\u001b[31m✖\u001b[39m \u001b[34mdplyr\u001b[39m::\u001b[32mlag()\u001b[39m    masks \u001b[34mstats\u001b[39m::lag()\n",
            "\n"
          ]
        }
      ]
    },
    {
      "cell_type": "markdown",
      "source": [
        "# Задание 1"
      ],
      "metadata": {
        "id": "R0Z5o_wOX8r5"
      }
    },
    {
      "cell_type": "code",
      "execution_count": null,
      "metadata": {
        "id": "TMoVOUX7uGet"
      },
      "outputs": [],
      "source": [
        "sales <- read_csv('sample_data/sales_train.csv', col_types = cols(date = col_character(), date_block_num = col_double(), shop_id = col_double(), item_id = col_double(), item_price = col_double(), item_cnt_day = col_double()))"
      ]
    },
    {
      "cell_type": "code",
      "source": [
        "head(sales)"
      ],
      "metadata": {
        "colab": {
          "base_uri": "https://localhost:8080/",
          "height": 286
        },
        "id": "VLap4RhabR9V",
        "outputId": "952d220f-48b4-44ad-bf82-5695558733ef"
      },
      "execution_count": null,
      "outputs": [
        {
          "output_type": "display_data",
          "data": {
            "text/html": [
              "<table class=\"dataframe\">\n",
              "<caption>A tibble: 6 × 6</caption>\n",
              "<thead>\n",
              "\t<tr><th scope=col>date</th><th scope=col>date_block_num</th><th scope=col>shop_id</th><th scope=col>item_id</th><th scope=col>item_price</th><th scope=col>item_cnt_day</th></tr>\n",
              "\t<tr><th scope=col>&lt;chr&gt;</th><th scope=col>&lt;dbl&gt;</th><th scope=col>&lt;dbl&gt;</th><th scope=col>&lt;dbl&gt;</th><th scope=col>&lt;dbl&gt;</th><th scope=col>&lt;dbl&gt;</th></tr>\n",
              "</thead>\n",
              "<tbody>\n",
              "\t<tr><td>02.01.2013</td><td>0</td><td>59</td><td>22154</td><td> 999.00</td><td> 1</td></tr>\n",
              "\t<tr><td>03.01.2013</td><td>0</td><td>25</td><td> 2552</td><td> 899.00</td><td> 1</td></tr>\n",
              "\t<tr><td>05.01.2013</td><td>0</td><td>25</td><td> 2552</td><td> 899.00</td><td>-1</td></tr>\n",
              "\t<tr><td>06.01.2013</td><td>0</td><td>25</td><td> 2554</td><td>1709.05</td><td> 1</td></tr>\n",
              "\t<tr><td>15.01.2013</td><td>0</td><td>25</td><td> 2555</td><td>1099.00</td><td> 1</td></tr>\n",
              "\t<tr><td>10.01.2013</td><td>0</td><td>25</td><td> 2564</td><td> 349.00</td><td> 1</td></tr>\n",
              "</tbody>\n",
              "</table>\n"
            ],
            "text/markdown": "\nA tibble: 6 × 6\n\n| date &lt;chr&gt; | date_block_num &lt;dbl&gt; | shop_id &lt;dbl&gt; | item_id &lt;dbl&gt; | item_price &lt;dbl&gt; | item_cnt_day &lt;dbl&gt; |\n|---|---|---|---|---|---|\n| 02.01.2013 | 0 | 59 | 22154 |  999.00 |  1 |\n| 03.01.2013 | 0 | 25 |  2552 |  899.00 |  1 |\n| 05.01.2013 | 0 | 25 |  2552 |  899.00 | -1 |\n| 06.01.2013 | 0 | 25 |  2554 | 1709.05 |  1 |\n| 15.01.2013 | 0 | 25 |  2555 | 1099.00 |  1 |\n| 10.01.2013 | 0 | 25 |  2564 |  349.00 |  1 |\n\n",
            "text/latex": "A tibble: 6 × 6\n\\begin{tabular}{llllll}\n date & date\\_block\\_num & shop\\_id & item\\_id & item\\_price & item\\_cnt\\_day\\\\\n <chr> & <dbl> & <dbl> & <dbl> & <dbl> & <dbl>\\\\\n\\hline\n\t 02.01.2013 & 0 & 59 & 22154 &  999.00 &  1\\\\\n\t 03.01.2013 & 0 & 25 &  2552 &  899.00 &  1\\\\\n\t 05.01.2013 & 0 & 25 &  2552 &  899.00 & -1\\\\\n\t 06.01.2013 & 0 & 25 &  2554 & 1709.05 &  1\\\\\n\t 15.01.2013 & 0 & 25 &  2555 & 1099.00 &  1\\\\\n\t 10.01.2013 & 0 & 25 &  2564 &  349.00 &  1\\\\\n\\end{tabular}\n",
            "text/plain": [
              "  date       date_block_num shop_id item_id item_price item_cnt_day\n",
              "1 02.01.2013 0              59      22154    999.00     1          \n",
              "2 03.01.2013 0              25       2552    899.00     1          \n",
              "3 05.01.2013 0              25       2552    899.00    -1          \n",
              "4 06.01.2013 0              25       2554   1709.05     1          \n",
              "5 15.01.2013 0              25       2555   1099.00     1          \n",
              "6 10.01.2013 0              25       2564    349.00     1          "
            ]
          },
          "metadata": {}
        }
      ]
    },
    {
      "cell_type": "markdown",
      "source": [
        "1. Найдите топ-10 самых часто покупаемых товаров (не забудьте учесть столбец item_cnt_day).\n"
      ],
      "metadata": {
        "id": "xVdR1BPSa4o-"
      }
    },
    {
      "cell_type": "code",
      "source": [
        "top <- sales[c(\"item_id\", \"item_cnt_day\")]\n",
        "top <- top %>% group_by(item_id) %>% summarise(item_cnt_day = sum(item_cnt_day)) %>% arrange(desc(item_cnt_day))\n",
        "head(top, n = 10)"
      ],
      "metadata": {
        "id": "fo-wy3ZCv3go",
        "colab": {
          "base_uri": "https://localhost:8080/",
          "height": 411
        },
        "outputId": "99b46fe4-f616-491e-a86e-181acec44a64"
      },
      "execution_count": null,
      "outputs": [
        {
          "output_type": "display_data",
          "data": {
            "text/html": [
              "<table class=\"dataframe\">\n",
              "<caption>A tibble: 10 × 2</caption>\n",
              "<thead>\n",
              "\t<tr><th scope=col>item_id</th><th scope=col>item_cnt_day</th></tr>\n",
              "\t<tr><th scope=col>&lt;dbl&gt;</th><th scope=col>&lt;dbl&gt;</th></tr>\n",
              "</thead>\n",
              "<tbody>\n",
              "\t<tr><td>20949</td><td>180174</td></tr>\n",
              "\t<tr><td> 2808</td><td> 17173</td></tr>\n",
              "\t<tr><td> 3732</td><td> 16529</td></tr>\n",
              "\t<tr><td>17717</td><td> 14818</td></tr>\n",
              "\t<tr><td> 5822</td><td> 13995</td></tr>\n",
              "\t<tr><td> 3734</td><td> 11586</td></tr>\n",
              "\t<tr><td> 6675</td><td> 10285</td></tr>\n",
              "\t<tr><td> 1855</td><td> 10024</td></tr>\n",
              "\t<tr><td> 3731</td><td>  9624</td></tr>\n",
              "\t<tr><td>16787</td><td>  9199</td></tr>\n",
              "</tbody>\n",
              "</table>\n"
            ],
            "text/markdown": "\nA tibble: 10 × 2\n\n| item_id &lt;dbl&gt; | item_cnt_day &lt;dbl&gt; |\n|---|---|\n| 20949 | 180174 |\n|  2808 |  17173 |\n|  3732 |  16529 |\n| 17717 |  14818 |\n|  5822 |  13995 |\n|  3734 |  11586 |\n|  6675 |  10285 |\n|  1855 |  10024 |\n|  3731 |   9624 |\n| 16787 |   9199 |\n\n",
            "text/latex": "A tibble: 10 × 2\n\\begin{tabular}{ll}\n item\\_id & item\\_cnt\\_day\\\\\n <dbl> & <dbl>\\\\\n\\hline\n\t 20949 & 180174\\\\\n\t  2808 &  17173\\\\\n\t  3732 &  16529\\\\\n\t 17717 &  14818\\\\\n\t  5822 &  13995\\\\\n\t  3734 &  11586\\\\\n\t  6675 &  10285\\\\\n\t  1855 &  10024\\\\\n\t  3731 &   9624\\\\\n\t 16787 &   9199\\\\\n\\end{tabular}\n",
            "text/plain": [
              "   item_id item_cnt_day\n",
              "1  20949   180174      \n",
              "2   2808    17173      \n",
              "3   3732    16529      \n",
              "4  17717    14818      \n",
              "5   5822    13995      \n",
              "6   3734    11586      \n",
              "7   6675    10285      \n",
              "8   1855    10024      \n",
              "9   3731     9624      \n",
              "10 16787     9199      "
            ]
          },
          "metadata": {}
        }
      ]
    },
    {
      "cell_type": "markdown",
      "source": [
        "2. Оставьте только те из них, которые покупали все три года (2013, 2014, 2015)."
      ],
      "metadata": {
        "id": "eZQDR3C22L3x"
      }
    },
    {
      "cell_type": "code",
      "source": [
        "full_top <- merge(head(top, n = 10), sales, by = \"item_id\")\n",
        "full_top <- full_top[ , -7]\n",
        "names(full_top)[2] <- \"item_cnt_day\"\n",
        "top_2013 <- full_top %>% filter(date_block_num < 12)\n",
        "top_2013 <- unique(top_2013[1])\n",
        "top_2014 <- full_top %>% filter(date_block_num > 11) %>% filter(date_block_num < 24)\n",
        "top_2014 <- unique(top_2014[1])\n",
        "top_2015 <- filter(full_top, date_block_num > 23)\n",
        "top_2015 <- unique(top_2015[1])\n",
        "needed_id <- merge(top_2015, merge(top_2013, top_2014, by = \"item_id\"), by = \"item_id\")\n",
        "needed_id"
      ],
      "metadata": {
        "colab": {
          "base_uri": "https://localhost:8080/",
          "height": 415
        },
        "id": "F3M17ISn2Iw5",
        "outputId": "8eaef0fb-a324-45e2-d3fc-9bb044c57d6a"
      },
      "execution_count": null,
      "outputs": [
        {
          "output_type": "display_data",
          "data": {
            "text/html": [
              "<table class=\"dataframe\">\n",
              "<caption>A data.frame: 9 × 1</caption>\n",
              "<thead>\n",
              "\t<tr><th scope=col>item_id</th></tr>\n",
              "\t<tr><th scope=col>&lt;dbl&gt;</th></tr>\n",
              "</thead>\n",
              "<tbody>\n",
              "\t<tr><td> 1855</td></tr>\n",
              "\t<tr><td> 2808</td></tr>\n",
              "\t<tr><td> 3732</td></tr>\n",
              "\t<tr><td> 3734</td></tr>\n",
              "\t<tr><td> 5822</td></tr>\n",
              "\t<tr><td> 6675</td></tr>\n",
              "\t<tr><td>16787</td></tr>\n",
              "\t<tr><td>17717</td></tr>\n",
              "\t<tr><td>20949</td></tr>\n",
              "</tbody>\n",
              "</table>\n"
            ],
            "text/markdown": "\nA data.frame: 9 × 1\n\n| item_id &lt;dbl&gt; |\n|---|\n|  1855 |\n|  2808 |\n|  3732 |\n|  3734 |\n|  5822 |\n|  6675 |\n| 16787 |\n| 17717 |\n| 20949 |\n\n",
            "text/latex": "A data.frame: 9 × 1\n\\begin{tabular}{l}\n item\\_id\\\\\n <dbl>\\\\\n\\hline\n\t  1855\\\\\n\t  2808\\\\\n\t  3732\\\\\n\t  3734\\\\\n\t  5822\\\\\n\t  6675\\\\\n\t 16787\\\\\n\t 17717\\\\\n\t 20949\\\\\n\\end{tabular}\n",
            "text/plain": [
              "  item_id\n",
              "1  1855  \n",
              "2  2808  \n",
              "3  3732  \n",
              "4  3734  \n",
              "5  5822  \n",
              "6  6675  \n",
              "7 16787  \n",
              "8 17717  \n",
              "9 20949  "
            ]
          },
          "metadata": {}
        }
      ]
    },
    {
      "cell_type": "markdown",
      "source": [
        "# Задание 2"
      ],
      "metadata": {
        "id": "8Rbi9uE3DdlI"
      }
    },
    {
      "cell_type": "code",
      "source": [
        "item_categories <- read_csv(\"sample_data/item_categories.csv\")\n",
        "items <- read_csv(\"sample_data/items.csv\")\n",
        "items"
      ],
      "metadata": {
        "colab": {
          "base_uri": "https://localhost:8080/",
          "height": 1000
        },
        "id": "iwmZ0Fs8DnMU",
        "outputId": "4aaca5d4-f6e7-4032-e6f3-eed6476ab300"
      },
      "execution_count": null,
      "outputs": [
        {
          "output_type": "stream",
          "name": "stderr",
          "text": [
            "\u001b[1mRows: \u001b[22m\u001b[34m84\u001b[39m \u001b[1mColumns: \u001b[22m\u001b[34m2\u001b[39m\n",
            "\u001b[36m──\u001b[39m \u001b[1mColumn specification\u001b[22m \u001b[36m────────────────────────────────────────────────────────\u001b[39m\n",
            "\u001b[1mDelimiter:\u001b[22m \",\"\n",
            "\u001b[31mchr\u001b[39m (1): item_category_name\n",
            "\u001b[32mdbl\u001b[39m (1): item_category_id\n",
            "\n",
            "\u001b[36mℹ\u001b[39m Use `spec()` to retrieve the full column specification for this data.\n",
            "\u001b[36mℹ\u001b[39m Specify the column types or set `show_col_types = FALSE` to quiet this message.\n",
            "\u001b[1mRows: \u001b[22m\u001b[34m22170\u001b[39m \u001b[1mColumns: \u001b[22m\u001b[34m3\u001b[39m\n",
            "\u001b[36m──\u001b[39m \u001b[1mColumn specification\u001b[22m \u001b[36m────────────────────────────────────────────────────────\u001b[39m\n",
            "\u001b[1mDelimiter:\u001b[22m \",\"\n",
            "\u001b[31mchr\u001b[39m (1): item_name\n",
            "\u001b[32mdbl\u001b[39m (2): item_id, category_id\n",
            "\n",
            "\u001b[36mℹ\u001b[39m Use `spec()` to retrieve the full column specification for this data.\n",
            "\u001b[36mℹ\u001b[39m Specify the column types or set `show_col_types = FALSE` to quiet this message.\n"
          ]
        },
        {
          "output_type": "display_data",
          "data": {
            "text/html": [
              "<table class=\"dataframe\">\n",
              "<caption>A spec_tbl_df: 22170 × 3</caption>\n",
              "<thead>\n",
              "\t<tr><th scope=col>item_name</th><th scope=col>item_id</th><th scope=col>category_id</th></tr>\n",
              "\t<tr><th scope=col>&lt;chr&gt;</th><th scope=col>&lt;dbl&gt;</th><th scope=col>&lt;dbl&gt;</th></tr>\n",
              "</thead>\n",
              "<tbody>\n",
              "\t<tr><td>!! IN THE POWER OF HAPPINESS (PLAST) D                               </td><td> 0</td><td>40</td></tr>\n",
              "\t<tr><td>! ABBYY FineReader 12 Professional Edition Full [PC, Digital Version]</td><td> 1</td><td>76</td></tr>\n",
              "\t<tr><td>*** IN THE GLORY OF THE GLORY (UNV) D                                </td><td> 2</td><td>40</td></tr>\n",
              "\t<tr><td>*** BLUE WAVE (Univ) D                                               </td><td> 3</td><td>40</td></tr>\n",
              "\t<tr><td>*** BOX (GLASS) D                                                    </td><td> 4</td><td>40</td></tr>\n",
              "\t<tr><td>*** NEW AMERICAN GRAPHICS (UNI) D                                    </td><td> 5</td><td>40</td></tr>\n",
              "\t<tr><td>*** BLOCK ON THE GATES (UNI) D                                       </td><td> 6</td><td>40</td></tr>\n",
              "\t<tr><td>*** SHOCK AT DOOR-2 (UNI) D                                          </td><td> 7</td><td>40</td></tr>\n",
              "\t<tr><td>*** TEA WITH MUSSOLINI D                                             </td><td> 8</td><td>40</td></tr>\n",
              "\t<tr><td>*** SHUGARLEND EXPRESS (UNI) D                                       </td><td> 9</td><td>40</td></tr>\n",
              "\t<tr><td>* Beyond Death's Edge D                                              </td><td>10</td><td>40</td></tr>\n",
              "\t<tr><td>* LINE OF COMMENTS D                                                 </td><td>11</td><td>40</td></tr>\n",
              "\t<tr><td>* MICHAEL AND JUMANJI Female love                                    </td><td>12</td><td>55</td></tr>\n",
              "\t<tr><td>* SAVING EMILY D                                                     </td><td>13</td><td>40</td></tr>\n",
              "\t<tr><td>* PRIVATE PROFESSOR / MAGIC / D                                      </td><td>14</td><td>40</td></tr>\n",
              "\t<tr><td>// ADRENALIN: ONE AGAINST ALL (Region)                               </td><td>15</td><td>40</td></tr>\n",
              "\t<tr><td>// MONGOL S.Bodrov (Region)                                          </td><td>16</td><td>40</td></tr>\n",
              "\t<tr><td>// NOT OBSERVING THE TRACK (Region)                                  </td><td>17</td><td>40</td></tr>\n",
              "\t<tr><td>/ BOMB FOR THE BRIDE / 2DVD / D                                      </td><td>18</td><td>40</td></tr>\n",
              "\t<tr><td>/ GOLDEN COLLECTION m / f-72                                         </td><td>19</td><td>40</td></tr>\n",
              "\t<tr><td>/ ONCE IN CHINA-2                                                    </td><td>20</td><td>40</td></tr>\n",
              "\t<tr><td>/LAST CHANCE                                                         </td><td>21</td><td>40</td></tr>\n",
              "\t<tr><td>/ CURED EL CHARRO                                                    </td><td>22</td><td>40</td></tr>\n",
              "\t<tr><td>/ NORTH AND SOUTH / N.2                                              </td><td>23</td><td>40</td></tr>\n",
              "\t<tr><td>/ THE DEATH PASSAGE                                                  </td><td>24</td><td>40</td></tr>\n",
              "\t<tr><td>/YOU ARE DEAD                                                        </td><td>25</td><td>40</td></tr>\n",
              "\t<tr><td>/ MULTIPLE FREQUENCY vol.2 (ser.3-4)                                 </td><td>26</td><td>40</td></tr>\n",
              "\t<tr><td>007 Legends [PS3, Russian version]                                   </td><td>27</td><td>19</td></tr>\n",
              "\t<tr><td>007 Legends [PC, Jewel, Russian version]                             </td><td>28</td><td>30</td></tr>\n",
              "\t<tr><td>007 Legends [Xbox 360, Russian version]                              </td><td>29</td><td>23</td></tr>\n",
              "\t<tr><td>⋮</td><td>⋮</td><td>⋮</td></tr>\n",
              "\t<tr><td>I, ROBOT (BD)                                                   </td><td>22140</td><td>37</td></tr>\n",
              "\t<tr><td>Me, AGAIN AND MOM                                               </td><td>22141</td><td>40</td></tr>\n",
              "\t<tr><td>Me, AGAIN AND ME (BD)                                           </td><td>22142</td><td>37</td></tr>\n",
              "\t<tr><td>I AM FRANKENSTEIN                                               </td><td>22143</td><td>40</td></tr>\n",
              "\t<tr><td>I, FRANKNSTEIN (3D BD)                                          </td><td>22144</td><td>38</td></tr>\n",
              "\t<tr><td>I, FRANKNSTEIN (BD)                                             </td><td>22145</td><td>37</td></tr>\n",
              "\t<tr><td>I-LEGEND WB (BD)                                                </td><td>22146</td><td>37</td></tr>\n",
              "\t<tr><td>I-LEGEND WB (region)                                            </td><td>22147</td><td>40</td></tr>\n",
              "\t<tr><td>I-FOURTH WD                                                     </td><td>22148</td><td>40</td></tr>\n",
              "\t<tr><td>I-FOURTH WD (Region)                                            </td><td>22149</td><td>40</td></tr>\n",
              "\t<tr><td>I AM THE FOURTH (BD)                                            </td><td>22150</td><td>37</td></tr>\n",
              "\t<tr><td>SCENE (2012)                                                    </td><td>22151</td><td>40</td></tr>\n",
              "\t<tr><td>SCENE (2012) (region)                                           </td><td>22152</td><td>40</td></tr>\n",
              "\t<tr><td>THE PHENOMENON (BD)                                             </td><td>22153</td><td>37</td></tr>\n",
              "\t<tr><td>SCENE 2012 (BD)                                                 </td><td>22154</td><td>37</td></tr>\n",
              "\t<tr><td>POISONS, OR WORLD HISTORY OF POISONING (BD)                     </td><td>22155</td><td>37</td></tr>\n",
              "\t<tr><td>POISONS, OR WORLD HISTORY OF POISONING (region)                 </td><td>22156</td><td>40</td></tr>\n",
              "\t<tr><td>YALTA 45                                                        </td><td>22157</td><td>40</td></tr>\n",
              "\t<tr><td>YAMA (rem)                                                      </td><td>22158</td><td>40</td></tr>\n",
              "\t<tr><td>YANKOVSKY                                                       </td><td>22159</td><td>40</td></tr>\n",
              "\t<tr><td>FAIR OF FAIRY (Region)                                          </td><td>22160</td><td>40</td></tr>\n",
              "\t<tr><td>YAROSLAV. THOUSAND YEARS AGO B (BD)                             </td><td>22161</td><td>37</td></tr>\n",
              "\t<tr><td>THE FATHER                                                      </td><td>22162</td><td>40</td></tr>\n",
              "\t<tr><td>FURNISH (region)                                                </td><td>22163</td><td>40</td></tr>\n",
              "\t<tr><td>THE FURNACE (BD)                                                </td><td>22164</td><td>37</td></tr>\n",
              "\t<tr><td>Nuclear Titbit 2 [PC, Digital Version]                          </td><td>22165</td><td>31</td></tr>\n",
              "\t<tr><td>Query language 1C: Enterprise [Digital version]                 </td><td>22166</td><td>54</td></tr>\n",
              "\t<tr><td>The query language is 1C: Enterprise 8 (+ CD). Khrustaleva E.Yu.</td><td>22167</td><td>49</td></tr>\n",
              "\t<tr><td>Egg for Little Inu                                              </td><td>22168</td><td>62</td></tr>\n",
              "\t<tr><td>Egg of the Dragon (Game of Thrones)                             </td><td>22169</td><td>69</td></tr>\n",
              "</tbody>\n",
              "</table>\n"
            ],
            "text/markdown": "\nA spec_tbl_df: 22170 × 3\n\n| item_name &lt;chr&gt; | item_id &lt;dbl&gt; | category_id &lt;dbl&gt; |\n|---|---|---|\n| !! IN THE POWER OF HAPPINESS (PLAST) D                                |  0 | 40 |\n| ! ABBYY FineReader 12 Professional Edition Full [PC, Digital Version] |  1 | 76 |\n| *** IN THE GLORY OF THE GLORY (UNV) D                                 |  2 | 40 |\n| *** BLUE WAVE (Univ) D                                                |  3 | 40 |\n| *** BOX (GLASS) D                                                     |  4 | 40 |\n| *** NEW AMERICAN GRAPHICS (UNI) D                                     |  5 | 40 |\n| *** BLOCK ON THE GATES (UNI) D                                        |  6 | 40 |\n| *** SHOCK AT DOOR-2 (UNI) D                                           |  7 | 40 |\n| *** TEA WITH MUSSOLINI D                                              |  8 | 40 |\n| *** SHUGARLEND EXPRESS (UNI) D                                        |  9 | 40 |\n| * Beyond Death's Edge D                                               | 10 | 40 |\n| * LINE OF COMMENTS D                                                  | 11 | 40 |\n| * MICHAEL AND JUMANJI Female love                                     | 12 | 55 |\n| * SAVING EMILY D                                                      | 13 | 40 |\n| * PRIVATE PROFESSOR / MAGIC / D                                       | 14 | 40 |\n| // ADRENALIN: ONE AGAINST ALL (Region)                                | 15 | 40 |\n| // MONGOL S.Bodrov (Region)                                           | 16 | 40 |\n| // NOT OBSERVING THE TRACK (Region)                                   | 17 | 40 |\n| / BOMB FOR THE BRIDE / 2DVD / D                                       | 18 | 40 |\n| / GOLDEN COLLECTION m / f-72                                          | 19 | 40 |\n| / ONCE IN CHINA-2                                                     | 20 | 40 |\n| /LAST CHANCE                                                          | 21 | 40 |\n| / CURED EL CHARRO                                                     | 22 | 40 |\n| / NORTH AND SOUTH / N.2                                               | 23 | 40 |\n| / THE DEATH PASSAGE                                                   | 24 | 40 |\n| /YOU ARE DEAD                                                         | 25 | 40 |\n| / MULTIPLE FREQUENCY vol.2 (ser.3-4)                                  | 26 | 40 |\n| 007 Legends [PS3, Russian version]                                    | 27 | 19 |\n| 007 Legends [PC, Jewel, Russian version]                              | 28 | 30 |\n| 007 Legends [Xbox 360, Russian version]                               | 29 | 23 |\n| ⋮ | ⋮ | ⋮ |\n| I, ROBOT (BD)                                                    | 22140 | 37 |\n| Me, AGAIN AND MOM                                                | 22141 | 40 |\n| Me, AGAIN AND ME (BD)                                            | 22142 | 37 |\n| I AM FRANKENSTEIN                                                | 22143 | 40 |\n| I, FRANKNSTEIN (3D BD)                                           | 22144 | 38 |\n| I, FRANKNSTEIN (BD)                                              | 22145 | 37 |\n| I-LEGEND WB (BD)                                                 | 22146 | 37 |\n| I-LEGEND WB (region)                                             | 22147 | 40 |\n| I-FOURTH WD                                                      | 22148 | 40 |\n| I-FOURTH WD (Region)                                             | 22149 | 40 |\n| I AM THE FOURTH (BD)                                             | 22150 | 37 |\n| SCENE (2012)                                                     | 22151 | 40 |\n| SCENE (2012) (region)                                            | 22152 | 40 |\n| THE PHENOMENON (BD)                                              | 22153 | 37 |\n| SCENE 2012 (BD)                                                  | 22154 | 37 |\n| POISONS, OR WORLD HISTORY OF POISONING (BD)                      | 22155 | 37 |\n| POISONS, OR WORLD HISTORY OF POISONING (region)                  | 22156 | 40 |\n| YALTA 45                                                         | 22157 | 40 |\n| YAMA (rem)                                                       | 22158 | 40 |\n| YANKOVSKY                                                        | 22159 | 40 |\n| FAIR OF FAIRY (Region)                                           | 22160 | 40 |\n| YAROSLAV. THOUSAND YEARS AGO B (BD)                              | 22161 | 37 |\n| THE FATHER                                                       | 22162 | 40 |\n| FURNISH (region)                                                 | 22163 | 40 |\n| THE FURNACE (BD)                                                 | 22164 | 37 |\n| Nuclear Titbit 2 [PC, Digital Version]                           | 22165 | 31 |\n| Query language 1C: Enterprise [Digital version]                  | 22166 | 54 |\n| The query language is 1C: Enterprise 8 (+ CD). Khrustaleva E.Yu. | 22167 | 49 |\n| Egg for Little Inu                                               | 22168 | 62 |\n| Egg of the Dragon (Game of Thrones)                              | 22169 | 69 |\n\n",
            "text/latex": "A spec\\_tbl\\_df: 22170 × 3\n\\begin{tabular}{lll}\n item\\_name & item\\_id & category\\_id\\\\\n <chr> & <dbl> & <dbl>\\\\\n\\hline\n\t !! IN THE POWER OF HAPPINESS (PLAST) D                                &  0 & 40\\\\\n\t ! ABBYY FineReader 12 Professional Edition Full {[}PC, Digital Version{]} &  1 & 76\\\\\n\t *** IN THE GLORY OF THE GLORY (UNV) D                                 &  2 & 40\\\\\n\t *** BLUE WAVE (Univ) D                                                &  3 & 40\\\\\n\t *** BOX (GLASS) D                                                     &  4 & 40\\\\\n\t *** NEW AMERICAN GRAPHICS (UNI) D                                     &  5 & 40\\\\\n\t *** BLOCK ON THE GATES (UNI) D                                        &  6 & 40\\\\\n\t *** SHOCK AT DOOR-2 (UNI) D                                           &  7 & 40\\\\\n\t *** TEA WITH MUSSOLINI D                                              &  8 & 40\\\\\n\t *** SHUGARLEND EXPRESS (UNI) D                                        &  9 & 40\\\\\n\t * Beyond Death's Edge D                                               & 10 & 40\\\\\n\t * LINE OF COMMENTS D                                                  & 11 & 40\\\\\n\t * MICHAEL AND JUMANJI Female love                                     & 12 & 55\\\\\n\t * SAVING EMILY D                                                      & 13 & 40\\\\\n\t * PRIVATE PROFESSOR / MAGIC / D                                       & 14 & 40\\\\\n\t // ADRENALIN: ONE AGAINST ALL (Region)                                & 15 & 40\\\\\n\t // MONGOL S.Bodrov (Region)                                           & 16 & 40\\\\\n\t // NOT OBSERVING THE TRACK (Region)                                   & 17 & 40\\\\\n\t / BOMB FOR THE BRIDE / 2DVD / D                                       & 18 & 40\\\\\n\t / GOLDEN COLLECTION m / f-72                                          & 19 & 40\\\\\n\t / ONCE IN CHINA-2                                                     & 20 & 40\\\\\n\t /LAST CHANCE                                                          & 21 & 40\\\\\n\t / CURED EL CHARRO                                                     & 22 & 40\\\\\n\t / NORTH AND SOUTH / N.2                                               & 23 & 40\\\\\n\t / THE DEATH PASSAGE                                                   & 24 & 40\\\\\n\t /YOU ARE DEAD                                                         & 25 & 40\\\\\n\t / MULTIPLE FREQUENCY vol.2 (ser.3-4)                                  & 26 & 40\\\\\n\t 007 Legends {[}PS3, Russian version{]}                                    & 27 & 19\\\\\n\t 007 Legends {[}PC, Jewel, Russian version{]}                              & 28 & 30\\\\\n\t 007 Legends {[}Xbox 360, Russian version{]}                               & 29 & 23\\\\\n\t ⋮ & ⋮ & ⋮\\\\\n\t I, ROBOT (BD)                                                    & 22140 & 37\\\\\n\t Me, AGAIN AND MOM                                                & 22141 & 40\\\\\n\t Me, AGAIN AND ME (BD)                                            & 22142 & 37\\\\\n\t I AM FRANKENSTEIN                                                & 22143 & 40\\\\\n\t I, FRANKNSTEIN (3D BD)                                           & 22144 & 38\\\\\n\t I, FRANKNSTEIN (BD)                                              & 22145 & 37\\\\\n\t I-LEGEND WB (BD)                                                 & 22146 & 37\\\\\n\t I-LEGEND WB (region)                                             & 22147 & 40\\\\\n\t I-FOURTH WD                                                      & 22148 & 40\\\\\n\t I-FOURTH WD (Region)                                             & 22149 & 40\\\\\n\t I AM THE FOURTH (BD)                                             & 22150 & 37\\\\\n\t SCENE (2012)                                                     & 22151 & 40\\\\\n\t SCENE (2012) (region)                                            & 22152 & 40\\\\\n\t THE PHENOMENON (BD)                                              & 22153 & 37\\\\\n\t SCENE 2012 (BD)                                                  & 22154 & 37\\\\\n\t POISONS, OR WORLD HISTORY OF POISONING (BD)                      & 22155 & 37\\\\\n\t POISONS, OR WORLD HISTORY OF POISONING (region)                  & 22156 & 40\\\\\n\t YALTA 45                                                         & 22157 & 40\\\\\n\t YAMA (rem)                                                       & 22158 & 40\\\\\n\t YANKOVSKY                                                        & 22159 & 40\\\\\n\t FAIR OF FAIRY (Region)                                           & 22160 & 40\\\\\n\t YAROSLAV. THOUSAND YEARS AGO B (BD)                              & 22161 & 37\\\\\n\t THE FATHER                                                       & 22162 & 40\\\\\n\t FURNISH (region)                                                 & 22163 & 40\\\\\n\t THE FURNACE (BD)                                                 & 22164 & 37\\\\\n\t Nuclear Titbit 2 {[}PC, Digital Version{]}                           & 22165 & 31\\\\\n\t Query language 1C: Enterprise {[}Digital version{]}                  & 22166 & 54\\\\\n\t The query language is 1C: Enterprise 8 (+ CD). Khrustaleva E.Yu. & 22167 & 49\\\\\n\t Egg for Little Inu                                               & 22168 & 62\\\\\n\t Egg of the Dragon (Game of Thrones)                              & 22169 & 69\\\\\n\\end{tabular}\n",
            "text/plain": [
              "      item_name                                                            \n",
              "1     !! IN THE POWER OF HAPPINESS (PLAST) D                               \n",
              "2     ! ABBYY FineReader 12 Professional Edition Full [PC, Digital Version]\n",
              "3     *** IN THE GLORY OF THE GLORY (UNV) D                                \n",
              "4     *** BLUE WAVE (Univ) D                                               \n",
              "5     *** BOX (GLASS) D                                                    \n",
              "6     *** NEW AMERICAN GRAPHICS (UNI) D                                    \n",
              "7     *** BLOCK ON THE GATES (UNI) D                                       \n",
              "8     *** SHOCK AT DOOR-2 (UNI) D                                          \n",
              "9     *** TEA WITH MUSSOLINI D                                             \n",
              "10    *** SHUGARLEND EXPRESS (UNI) D                                       \n",
              "11    * Beyond Death's Edge D                                              \n",
              "12    * LINE OF COMMENTS D                                                 \n",
              "13    * MICHAEL AND JUMANJI Female love                                    \n",
              "14    * SAVING EMILY D                                                     \n",
              "15    * PRIVATE PROFESSOR / MAGIC / D                                      \n",
              "16    // ADRENALIN: ONE AGAINST ALL (Region)                               \n",
              "17    // MONGOL S.Bodrov (Region)                                          \n",
              "18    // NOT OBSERVING THE TRACK (Region)                                  \n",
              "19    / BOMB FOR THE BRIDE / 2DVD / D                                      \n",
              "20    / GOLDEN COLLECTION m / f-72                                         \n",
              "21    / ONCE IN CHINA-2                                                    \n",
              "22    /LAST CHANCE                                                         \n",
              "23    / CURED EL CHARRO                                                    \n",
              "24    / NORTH AND SOUTH / N.2                                              \n",
              "25    / THE DEATH PASSAGE                                                  \n",
              "26    /YOU ARE DEAD                                                        \n",
              "27    / MULTIPLE FREQUENCY vol.2 (ser.3-4)                                 \n",
              "28    007 Legends [PS3, Russian version]                                   \n",
              "29    007 Legends [PC, Jewel, Russian version]                             \n",
              "30    007 Legends [Xbox 360, Russian version]                              \n",
              "⋮     ⋮                                                                    \n",
              "22141 I, ROBOT (BD)                                                        \n",
              "22142 Me, AGAIN AND MOM                                                    \n",
              "22143 Me, AGAIN AND ME (BD)                                                \n",
              "22144 I AM FRANKENSTEIN                                                    \n",
              "22145 I, FRANKNSTEIN (3D BD)                                               \n",
              "22146 I, FRANKNSTEIN (BD)                                                  \n",
              "22147 I-LEGEND WB (BD)                                                     \n",
              "22148 I-LEGEND WB (region)                                                 \n",
              "22149 I-FOURTH WD                                                          \n",
              "22150 I-FOURTH WD (Region)                                                 \n",
              "22151 I AM THE FOURTH (BD)                                                 \n",
              "22152 SCENE (2012)                                                         \n",
              "22153 SCENE (2012) (region)                                                \n",
              "22154 THE PHENOMENON (BD)                                                  \n",
              "22155 SCENE 2012 (BD)                                                      \n",
              "22156 POISONS, OR WORLD HISTORY OF POISONING (BD)                          \n",
              "22157 POISONS, OR WORLD HISTORY OF POISONING (region)                      \n",
              "22158 YALTA 45                                                             \n",
              "22159 YAMA (rem)                                                           \n",
              "22160 YANKOVSKY                                                            \n",
              "22161 FAIR OF FAIRY (Region)                                               \n",
              "22162 YAROSLAV. THOUSAND YEARS AGO B (BD)                                  \n",
              "22163 THE FATHER                                                           \n",
              "22164 FURNISH (region)                                                     \n",
              "22165 THE FURNACE (BD)                                                     \n",
              "22166 Nuclear Titbit 2 [PC, Digital Version]                               \n",
              "22167 Query language 1C: Enterprise [Digital version]                      \n",
              "22168 The query language is 1C: Enterprise 8 (+ CD). Khrustaleva E.Yu.     \n",
              "22169 Egg for Little Inu                                                   \n",
              "22170 Egg of the Dragon (Game of Thrones)                                  \n",
              "      item_id category_id\n",
              "1      0      40         \n",
              "2      1      76         \n",
              "3      2      40         \n",
              "4      3      40         \n",
              "5      4      40         \n",
              "6      5      40         \n",
              "7      6      40         \n",
              "8      7      40         \n",
              "9      8      40         \n",
              "10     9      40         \n",
              "11    10      40         \n",
              "12    11      40         \n",
              "13    12      55         \n",
              "14    13      40         \n",
              "15    14      40         \n",
              "16    15      40         \n",
              "17    16      40         \n",
              "18    17      40         \n",
              "19    18      40         \n",
              "20    19      40         \n",
              "21    20      40         \n",
              "22    21      40         \n",
              "23    22      40         \n",
              "24    23      40         \n",
              "25    24      40         \n",
              "26    25      40         \n",
              "27    26      40         \n",
              "28    27      19         \n",
              "29    28      30         \n",
              "30    29      23         \n",
              "⋮     ⋮       ⋮          \n",
              "22141 22140   37         \n",
              "22142 22141   40         \n",
              "22143 22142   37         \n",
              "22144 22143   40         \n",
              "22145 22144   38         \n",
              "22146 22145   37         \n",
              "22147 22146   37         \n",
              "22148 22147   40         \n",
              "22149 22148   40         \n",
              "22150 22149   40         \n",
              "22151 22150   37         \n",
              "22152 22151   40         \n",
              "22153 22152   40         \n",
              "22154 22153   37         \n",
              "22155 22154   37         \n",
              "22156 22155   37         \n",
              "22157 22156   40         \n",
              "22158 22157   40         \n",
              "22159 22158   40         \n",
              "22160 22159   40         \n",
              "22161 22160   40         \n",
              "22162 22161   37         \n",
              "22163 22162   40         \n",
              "22164 22163   40         \n",
              "22165 22164   37         \n",
              "22166 22165   31         \n",
              "22167 22166   54         \n",
              "22168 22167   49         \n",
              "22169 22168   62         \n",
              "22170 22169   69         "
            ]
          },
          "metadata": {}
        }
      ]
    },
    {
      "cell_type": "code",
      "source": [
        "top_ctg <- merge(sales, items, by = \"item_id\")"
      ],
      "metadata": {
        "id": "e6BikaTTIIOf"
      },
      "execution_count": null,
      "outputs": []
    },
    {
      "cell_type": "code",
      "source": [
        "top_ctg <- top_ctg %>% group_by(category_id) %>% summarise(item_cnt_day = sum(item_cnt_day)) %>% arrange(item_cnt_day)"
      ],
      "metadata": {
        "id": "S6qu-T12Ng0b"
      },
      "execution_count": null,
      "outputs": []
    },
    {
      "cell_type": "markdown",
      "source": [
        "\n",
        "1. Определите категорию товаров, в которой совершается минимальное число покупок. Выведите айди и название категории."
      ],
      "metadata": {
        "id": "gN8jBhhFDgA_"
      }
    },
    {
      "cell_type": "code",
      "source": [
        "min_ctg <- top_ctg[c(1:2),]\n",
        "min_ctg"
      ],
      "metadata": {
        "colab": {
          "base_uri": "https://localhost:8080/",
          "height": 161
        },
        "id": "Q866WpoNVuh_",
        "outputId": "c6b836ee-dfb9-4d23-8956-bc46fd744ba2"
      },
      "execution_count": null,
      "outputs": [
        {
          "output_type": "display_data",
          "data": {
            "text/html": [
              "<table class=\"dataframe\">\n",
              "<caption>A tibble: 2 × 2</caption>\n",
              "<thead>\n",
              "\t<tr><th scope=col>category_id</th><th scope=col>item_cnt_day</th></tr>\n",
              "\t<tr><th scope=col>&lt;dbl&gt;</th><th scope=col>&lt;dbl&gt;</th></tr>\n",
              "</thead>\n",
              "<tbody>\n",
              "\t<tr><td>10</td><td>1</td></tr>\n",
              "\t<tr><td>51</td><td>1</td></tr>\n",
              "</tbody>\n",
              "</table>\n"
            ],
            "text/markdown": "\nA tibble: 2 × 2\n\n| category_id &lt;dbl&gt; | item_cnt_day &lt;dbl&gt; |\n|---|---|\n| 10 | 1 |\n| 51 | 1 |\n\n",
            "text/latex": "A tibble: 2 × 2\n\\begin{tabular}{ll}\n category\\_id & item\\_cnt\\_day\\\\\n <dbl> & <dbl>\\\\\n\\hline\n\t 10 & 1\\\\\n\t 51 & 1\\\\\n\\end{tabular}\n",
            "text/plain": [
              "  category_id item_cnt_day\n",
              "1 10          1           \n",
              "2 51          1           "
            ]
          },
          "metadata": {}
        }
      ]
    },
    {
      "cell_type": "markdown",
      "source": [
        "2. Определите категорию товаров, в которой совершается максимальное число покупок. Выведите айди и название категории."
      ],
      "metadata": {
        "id": "yfsaUsv4WCPk"
      }
    },
    {
      "cell_type": "code",
      "source": [
        "top_ctg <- top_ctg %>% group_by(category_id) %>% summarise(item_cnt_day = sum(item_cnt_day)) %>% arrange(desc(item_cnt_day))\n",
        "max_ctg <- top_ctg[1,]\n",
        "max_ctg"
      ],
      "metadata": {
        "colab": {
          "base_uri": "https://localhost:8080/",
          "height": 130
        },
        "id": "hj095XPcWJQI",
        "outputId": "8285f053-25e7-4110-b256-ca4bf8d4911d"
      },
      "execution_count": null,
      "outputs": [
        {
          "output_type": "display_data",
          "data": {
            "text/html": [
              "<table class=\"dataframe\">\n",
              "<caption>A tibble: 1 × 2</caption>\n",
              "<thead>\n",
              "\t<tr><th scope=col>category_id</th><th scope=col>item_cnt_day</th></tr>\n",
              "\t<tr><th scope=col>&lt;dbl&gt;</th><th scope=col>&lt;dbl&gt;</th></tr>\n",
              "</thead>\n",
              "<tbody>\n",
              "\t<tr><td>40</td><td>619945</td></tr>\n",
              "</tbody>\n",
              "</table>\n"
            ],
            "text/markdown": "\nA tibble: 1 × 2\n\n| category_id &lt;dbl&gt; | item_cnt_day &lt;dbl&gt; |\n|---|---|\n| 40 | 619945 |\n\n",
            "text/latex": "A tibble: 1 × 2\n\\begin{tabular}{ll}\n category\\_id & item\\_cnt\\_day\\\\\n <dbl> & <dbl>\\\\\n\\hline\n\t 40 & 619945\\\\\n\\end{tabular}\n",
            "text/plain": [
              "  category_id item_cnt_day\n",
              "1 40          619945      "
            ]
          },
          "metadata": {}
        }
      ]
    },
    {
      "cell_type": "markdown",
      "source": [
        "# Задание 3"
      ],
      "metadata": {
        "id": "BuRHjKIRWtme"
      }
    },
    {
      "cell_type": "markdown",
      "source": [
        "1. Для категорий из задания 2 найдите среднее количество продаж каждого товара категории в 5 магазинах с наибольшими продажами."
      ],
      "metadata": {
        "id": "x9cWtDRGWxzJ"
      }
    },
    {
      "cell_type": "code",
      "source": [
        "items_ctg <- merge(items, sales, by = \"item_id\")"
      ],
      "metadata": {
        "colab": {
          "base_uri": "https://localhost:8080/",
          "height": 227
        },
        "id": "kcQ-ix2BW2P2",
        "outputId": "2d9db4c2-ce0b-4be1-9d5e-c5d46ff24c37"
      },
      "execution_count": null,
      "outputs": [
        {
          "output_type": "display_data",
          "data": {
            "text/html": [
              "<table class=\"dataframe\">\n",
              "<caption>A data.frame: 3 × 8</caption>\n",
              "<thead>\n",
              "\t<tr><th></th><th scope=col>item_id</th><th scope=col>item_name</th><th scope=col>category_id</th><th scope=col>date</th><th scope=col>date_block_num</th><th scope=col>shop_id</th><th scope=col>item_price</th><th scope=col>item_cnt_day</th></tr>\n",
              "\t<tr><th></th><th scope=col>&lt;dbl&gt;</th><th scope=col>&lt;chr&gt;</th><th scope=col>&lt;dbl&gt;</th><th scope=col>&lt;chr&gt;</th><th scope=col>&lt;dbl&gt;</th><th scope=col>&lt;dbl&gt;</th><th scope=col>&lt;dbl&gt;</th><th scope=col>&lt;dbl&gt;</th></tr>\n",
              "</thead>\n",
              "<tbody>\n",
              "\t<tr><th scope=row>1</th><td>0</td><td>!! IN THE POWER OF HAPPINESS (PLAST) D                               </td><td>40</td><td>01.09.2014</td><td>20</td><td>54</td><td>  58</td><td>1</td></tr>\n",
              "\t<tr><th scope=row>2</th><td>1</td><td>! ABBYY FineReader 12 Professional Edition Full [PC, Digital Version]</td><td>76</td><td>02.04.2014</td><td>15</td><td>55</td><td>4490</td><td>1</td></tr>\n",
              "\t<tr><th scope=row>3</th><td>1</td><td>! ABBYY FineReader 12 Professional Edition Full [PC, Digital Version]</td><td>76</td><td>04.08.2014</td><td>19</td><td>55</td><td>4490</td><td>1</td></tr>\n",
              "</tbody>\n",
              "</table>\n"
            ],
            "text/markdown": "\nA data.frame: 3 × 8\n\n| <!--/--> | item_id &lt;dbl&gt; | item_name &lt;chr&gt; | category_id &lt;dbl&gt; | date &lt;chr&gt; | date_block_num &lt;dbl&gt; | shop_id &lt;dbl&gt; | item_price &lt;dbl&gt; | item_cnt_day &lt;dbl&gt; |\n|---|---|---|---|---|---|---|---|---|\n| 1 | 0 | !! IN THE POWER OF HAPPINESS (PLAST) D                                | 40 | 01.09.2014 | 20 | 54 |   58 | 1 |\n| 2 | 1 | ! ABBYY FineReader 12 Professional Edition Full [PC, Digital Version] | 76 | 02.04.2014 | 15 | 55 | 4490 | 1 |\n| 3 | 1 | ! ABBYY FineReader 12 Professional Edition Full [PC, Digital Version] | 76 | 04.08.2014 | 19 | 55 | 4490 | 1 |\n\n",
            "text/latex": "A data.frame: 3 × 8\n\\begin{tabular}{r|llllllll}\n  & item\\_id & item\\_name & category\\_id & date & date\\_block\\_num & shop\\_id & item\\_price & item\\_cnt\\_day\\\\\n  & <dbl> & <chr> & <dbl> & <chr> & <dbl> & <dbl> & <dbl> & <dbl>\\\\\n\\hline\n\t1 & 0 & !! IN THE POWER OF HAPPINESS (PLAST) D                                & 40 & 01.09.2014 & 20 & 54 &   58 & 1\\\\\n\t2 & 1 & ! ABBYY FineReader 12 Professional Edition Full {[}PC, Digital Version{]} & 76 & 02.04.2014 & 15 & 55 & 4490 & 1\\\\\n\t3 & 1 & ! ABBYY FineReader 12 Professional Edition Full {[}PC, Digital Version{]} & 76 & 04.08.2014 & 19 & 55 & 4490 & 1\\\\\n\\end{tabular}\n",
            "text/plain": [
              "  item_id item_name                                                            \n",
              "1 0       !! IN THE POWER OF HAPPINESS (PLAST) D                               \n",
              "2 1       ! ABBYY FineReader 12 Professional Edition Full [PC, Digital Version]\n",
              "3 1       ! ABBYY FineReader 12 Professional Edition Full [PC, Digital Version]\n",
              "  category_id date       date_block_num shop_id item_price item_cnt_day\n",
              "1 40          01.09.2014 20             54        58       1           \n",
              "2 76          02.04.2014 15             55      4490       1           \n",
              "3 76          04.08.2014 19             55      4490       1           "
            ]
          },
          "metadata": {}
        }
      ]
    },
    {
      "cell_type": "code",
      "source": [
        "top_shops <- head(sales %>% group_by(shop_id) %>% summarise(item_cnt_day = sum(item_cnt_day)) %>% arrange(desc(item_cnt_day)), n = 5)\n",
        "top_shops <- merge(top_shops, items_ctg, by = \"shop_id\")\n",
        "top_shops <- top_shops[ , -2]\n",
        "names(top_shops)[8] <- \"item_cnt_day\""
      ],
      "metadata": {
        "id": "bjMDotwSXR9F"
      },
      "execution_count": null,
      "outputs": []
    },
    {
      "cell_type": "code",
      "source": [
        "top_shops_max <- merge(top_shops, max_ctg, by = \"category_id\")\n",
        "top_shops_max <- top_shops_max[ , -9]\n",
        "names(top_shops_max)[8] <- \"item_cnt_day\"\n",
        "top_shops_max %>% group_by(item_id) %>% summarise(item_cnt_day = mean(item_cnt_day))"
      ],
      "metadata": {
        "colab": {
          "base_uri": "https://localhost:8080/",
          "height": 1000
        },
        "id": "9TlUkNlzcld0",
        "outputId": "ece405bf-13f1-4fa1-a63b-b624649c4f66"
      },
      "execution_count": null,
      "outputs": [
        {
          "output_type": "display_data",
          "data": {
            "text/html": [
              "<table class=\"dataframe\">\n",
              "<caption>A tibble: 4620 × 2</caption>\n",
              "<thead>\n",
              "\t<tr><th scope=col>item_id</th><th scope=col>item_cnt_day</th></tr>\n",
              "\t<tr><th scope=col>&lt;dbl&gt;</th><th scope=col>&lt;dbl&gt;</th></tr>\n",
              "</thead>\n",
              "<tbody>\n",
              "\t<tr><td> 0</td><td>1.000000</td></tr>\n",
              "\t<tr><td> 2</td><td>1.000000</td></tr>\n",
              "\t<tr><td> 3</td><td>1.000000</td></tr>\n",
              "\t<tr><td> 4</td><td>1.000000</td></tr>\n",
              "\t<tr><td> 5</td><td>1.000000</td></tr>\n",
              "\t<tr><td> 6</td><td>1.000000</td></tr>\n",
              "\t<tr><td> 7</td><td>1.000000</td></tr>\n",
              "\t<tr><td> 8</td><td>1.000000</td></tr>\n",
              "\t<tr><td> 9</td><td>1.000000</td></tr>\n",
              "\t<tr><td>10</td><td>1.000000</td></tr>\n",
              "\t<tr><td>11</td><td>1.000000</td></tr>\n",
              "\t<tr><td>13</td><td>1.000000</td></tr>\n",
              "\t<tr><td>14</td><td>1.000000</td></tr>\n",
              "\t<tr><td>15</td><td>1.000000</td></tr>\n",
              "\t<tr><td>18</td><td>1.000000</td></tr>\n",
              "\t<tr><td>19</td><td>1.000000</td></tr>\n",
              "\t<tr><td>20</td><td>1.000000</td></tr>\n",
              "\t<tr><td>21</td><td>1.000000</td></tr>\n",
              "\t<tr><td>22</td><td>1.000000</td></tr>\n",
              "\t<tr><td>23</td><td>1.000000</td></tr>\n",
              "\t<tr><td>24</td><td>1.000000</td></tr>\n",
              "\t<tr><td>25</td><td>1.000000</td></tr>\n",
              "\t<tr><td>26</td><td>1.000000</td></tr>\n",
              "\t<tr><td>30</td><td>1.873362</td></tr>\n",
              "\t<tr><td>32</td><td>1.246201</td></tr>\n",
              "\t<tr><td>34</td><td>1.000000</td></tr>\n",
              "\t<tr><td>35</td><td>1.428571</td></tr>\n",
              "\t<tr><td>37</td><td>1.000000</td></tr>\n",
              "\t<tr><td>43</td><td>1.000000</td></tr>\n",
              "\t<tr><td>63</td><td>1.000000</td></tr>\n",
              "\t<tr><td>⋮</td><td>⋮</td></tr>\n",
              "\t<tr><td>22075</td><td>1.000000</td></tr>\n",
              "\t<tr><td>22108</td><td>1.000000</td></tr>\n",
              "\t<tr><td>22114</td><td>1.025641</td></tr>\n",
              "\t<tr><td>22116</td><td>1.000000</td></tr>\n",
              "\t<tr><td>22119</td><td>1.031250</td></tr>\n",
              "\t<tr><td>22120</td><td>1.000000</td></tr>\n",
              "\t<tr><td>22121</td><td>1.415385</td></tr>\n",
              "\t<tr><td>22123</td><td>1.000000</td></tr>\n",
              "\t<tr><td>22124</td><td>1.000000</td></tr>\n",
              "\t<tr><td>22126</td><td>1.328767</td></tr>\n",
              "\t<tr><td>22128</td><td>1.000000</td></tr>\n",
              "\t<tr><td>22129</td><td>1.000000</td></tr>\n",
              "\t<tr><td>22130</td><td>1.455556</td></tr>\n",
              "\t<tr><td>22132</td><td>1.022727</td></tr>\n",
              "\t<tr><td>22133</td><td>1.000000</td></tr>\n",
              "\t<tr><td>22134</td><td>1.377778</td></tr>\n",
              "\t<tr><td>22136</td><td>1.000000</td></tr>\n",
              "\t<tr><td>22141</td><td>1.148148</td></tr>\n",
              "\t<tr><td>22143</td><td>1.644578</td></tr>\n",
              "\t<tr><td>22147</td><td>1.000000</td></tr>\n",
              "\t<tr><td>22148</td><td>1.000000</td></tr>\n",
              "\t<tr><td>22149</td><td>1.000000</td></tr>\n",
              "\t<tr><td>22151</td><td>1.540000</td></tr>\n",
              "\t<tr><td>22152</td><td>1.000000</td></tr>\n",
              "\t<tr><td>22156</td><td>1.000000</td></tr>\n",
              "\t<tr><td>22157</td><td>1.000000</td></tr>\n",
              "\t<tr><td>22159</td><td>1.142857</td></tr>\n",
              "\t<tr><td>22160</td><td>1.000000</td></tr>\n",
              "\t<tr><td>22162</td><td>1.494505</td></tr>\n",
              "\t<tr><td>22163</td><td>1.230769</td></tr>\n",
              "</tbody>\n",
              "</table>\n"
            ],
            "text/markdown": "\nA tibble: 4620 × 2\n\n| item_id &lt;dbl&gt; | item_cnt_day &lt;dbl&gt; |\n|---|---|\n|  0 | 1.000000 |\n|  2 | 1.000000 |\n|  3 | 1.000000 |\n|  4 | 1.000000 |\n|  5 | 1.000000 |\n|  6 | 1.000000 |\n|  7 | 1.000000 |\n|  8 | 1.000000 |\n|  9 | 1.000000 |\n| 10 | 1.000000 |\n| 11 | 1.000000 |\n| 13 | 1.000000 |\n| 14 | 1.000000 |\n| 15 | 1.000000 |\n| 18 | 1.000000 |\n| 19 | 1.000000 |\n| 20 | 1.000000 |\n| 21 | 1.000000 |\n| 22 | 1.000000 |\n| 23 | 1.000000 |\n| 24 | 1.000000 |\n| 25 | 1.000000 |\n| 26 | 1.000000 |\n| 30 | 1.873362 |\n| 32 | 1.246201 |\n| 34 | 1.000000 |\n| 35 | 1.428571 |\n| 37 | 1.000000 |\n| 43 | 1.000000 |\n| 63 | 1.000000 |\n| ⋮ | ⋮ |\n| 22075 | 1.000000 |\n| 22108 | 1.000000 |\n| 22114 | 1.025641 |\n| 22116 | 1.000000 |\n| 22119 | 1.031250 |\n| 22120 | 1.000000 |\n| 22121 | 1.415385 |\n| 22123 | 1.000000 |\n| 22124 | 1.000000 |\n| 22126 | 1.328767 |\n| 22128 | 1.000000 |\n| 22129 | 1.000000 |\n| 22130 | 1.455556 |\n| 22132 | 1.022727 |\n| 22133 | 1.000000 |\n| 22134 | 1.377778 |\n| 22136 | 1.000000 |\n| 22141 | 1.148148 |\n| 22143 | 1.644578 |\n| 22147 | 1.000000 |\n| 22148 | 1.000000 |\n| 22149 | 1.000000 |\n| 22151 | 1.540000 |\n| 22152 | 1.000000 |\n| 22156 | 1.000000 |\n| 22157 | 1.000000 |\n| 22159 | 1.142857 |\n| 22160 | 1.000000 |\n| 22162 | 1.494505 |\n| 22163 | 1.230769 |\n\n",
            "text/latex": "A tibble: 4620 × 2\n\\begin{tabular}{ll}\n item\\_id & item\\_cnt\\_day\\\\\n <dbl> & <dbl>\\\\\n\\hline\n\t  0 & 1.000000\\\\\n\t  2 & 1.000000\\\\\n\t  3 & 1.000000\\\\\n\t  4 & 1.000000\\\\\n\t  5 & 1.000000\\\\\n\t  6 & 1.000000\\\\\n\t  7 & 1.000000\\\\\n\t  8 & 1.000000\\\\\n\t  9 & 1.000000\\\\\n\t 10 & 1.000000\\\\\n\t 11 & 1.000000\\\\\n\t 13 & 1.000000\\\\\n\t 14 & 1.000000\\\\\n\t 15 & 1.000000\\\\\n\t 18 & 1.000000\\\\\n\t 19 & 1.000000\\\\\n\t 20 & 1.000000\\\\\n\t 21 & 1.000000\\\\\n\t 22 & 1.000000\\\\\n\t 23 & 1.000000\\\\\n\t 24 & 1.000000\\\\\n\t 25 & 1.000000\\\\\n\t 26 & 1.000000\\\\\n\t 30 & 1.873362\\\\\n\t 32 & 1.246201\\\\\n\t 34 & 1.000000\\\\\n\t 35 & 1.428571\\\\\n\t 37 & 1.000000\\\\\n\t 43 & 1.000000\\\\\n\t 63 & 1.000000\\\\\n\t ⋮ & ⋮\\\\\n\t 22075 & 1.000000\\\\\n\t 22108 & 1.000000\\\\\n\t 22114 & 1.025641\\\\\n\t 22116 & 1.000000\\\\\n\t 22119 & 1.031250\\\\\n\t 22120 & 1.000000\\\\\n\t 22121 & 1.415385\\\\\n\t 22123 & 1.000000\\\\\n\t 22124 & 1.000000\\\\\n\t 22126 & 1.328767\\\\\n\t 22128 & 1.000000\\\\\n\t 22129 & 1.000000\\\\\n\t 22130 & 1.455556\\\\\n\t 22132 & 1.022727\\\\\n\t 22133 & 1.000000\\\\\n\t 22134 & 1.377778\\\\\n\t 22136 & 1.000000\\\\\n\t 22141 & 1.148148\\\\\n\t 22143 & 1.644578\\\\\n\t 22147 & 1.000000\\\\\n\t 22148 & 1.000000\\\\\n\t 22149 & 1.000000\\\\\n\t 22151 & 1.540000\\\\\n\t 22152 & 1.000000\\\\\n\t 22156 & 1.000000\\\\\n\t 22157 & 1.000000\\\\\n\t 22159 & 1.142857\\\\\n\t 22160 & 1.000000\\\\\n\t 22162 & 1.494505\\\\\n\t 22163 & 1.230769\\\\\n\\end{tabular}\n",
            "text/plain": [
              "     item_id item_cnt_day\n",
              "1     0      1.000000    \n",
              "2     2      1.000000    \n",
              "3     3      1.000000    \n",
              "4     4      1.000000    \n",
              "5     5      1.000000    \n",
              "6     6      1.000000    \n",
              "7     7      1.000000    \n",
              "8     8      1.000000    \n",
              "9     9      1.000000    \n",
              "10   10      1.000000    \n",
              "11   11      1.000000    \n",
              "12   13      1.000000    \n",
              "13   14      1.000000    \n",
              "14   15      1.000000    \n",
              "15   18      1.000000    \n",
              "16   19      1.000000    \n",
              "17   20      1.000000    \n",
              "18   21      1.000000    \n",
              "19   22      1.000000    \n",
              "20   23      1.000000    \n",
              "21   24      1.000000    \n",
              "22   25      1.000000    \n",
              "23   26      1.000000    \n",
              "24   30      1.873362    \n",
              "25   32      1.246201    \n",
              "26   34      1.000000    \n",
              "27   35      1.428571    \n",
              "28   37      1.000000    \n",
              "29   43      1.000000    \n",
              "30   63      1.000000    \n",
              "⋮    ⋮       ⋮           \n",
              "4591 22075   1.000000    \n",
              "4592 22108   1.000000    \n",
              "4593 22114   1.025641    \n",
              "4594 22116   1.000000    \n",
              "4595 22119   1.031250    \n",
              "4596 22120   1.000000    \n",
              "4597 22121   1.415385    \n",
              "4598 22123   1.000000    \n",
              "4599 22124   1.000000    \n",
              "4600 22126   1.328767    \n",
              "4601 22128   1.000000    \n",
              "4602 22129   1.000000    \n",
              "4603 22130   1.455556    \n",
              "4604 22132   1.022727    \n",
              "4605 22133   1.000000    \n",
              "4606 22134   1.377778    \n",
              "4607 22136   1.000000    \n",
              "4608 22141   1.148148    \n",
              "4609 22143   1.644578    \n",
              "4610 22147   1.000000    \n",
              "4611 22148   1.000000    \n",
              "4612 22149   1.000000    \n",
              "4613 22151   1.540000    \n",
              "4614 22152   1.000000    \n",
              "4615 22156   1.000000    \n",
              "4616 22157   1.000000    \n",
              "4617 22159   1.142857    \n",
              "4618 22160   1.000000    \n",
              "4619 22162   1.494505    \n",
              "4620 22163   1.230769    "
            ]
          },
          "metadata": {}
        }
      ]
    },
    {
      "cell_type": "code",
      "source": [
        "top_shops_min <- merge(top_shops, min_ctg, by = \"category_id\")\n",
        "top_shops_min #once again they don't sell this stuff in cool shops"
      ],
      "metadata": {
        "colab": {
          "base_uri": "https://localhost:8080/",
          "height": 98
        },
        "id": "i_LwS43mcuj7",
        "outputId": "c4d6cb5c-70ed-41b5-d4b2-b7bd068a7a11"
      },
      "execution_count": null,
      "outputs": [
        {
          "output_type": "display_data",
          "data": {
            "text/html": [
              "<table class=\"dataframe\">\n",
              "<caption>A data.frame: 0 × 9</caption>\n",
              "<thead>\n",
              "\t<tr><th scope=col>category_id</th><th scope=col>shop_id</th><th scope=col>item_id</th><th scope=col>item_name</th><th scope=col>date</th><th scope=col>date_block_num</th><th scope=col>item_price</th><th scope=col>item_cnt_day.x</th><th scope=col>item_cnt_day.y</th></tr>\n",
              "\t<tr><th scope=col>&lt;dbl&gt;</th><th scope=col>&lt;dbl&gt;</th><th scope=col>&lt;dbl&gt;</th><th scope=col>&lt;chr&gt;</th><th scope=col>&lt;chr&gt;</th><th scope=col>&lt;dbl&gt;</th><th scope=col>&lt;dbl&gt;</th><th scope=col>&lt;dbl&gt;</th><th scope=col>&lt;dbl&gt;</th></tr>\n",
              "</thead>\n",
              "<tbody>\n",
              "</tbody>\n",
              "</table>\n"
            ],
            "text/markdown": "\nA data.frame: 0 × 9\n\n| category_id &lt;dbl&gt; | shop_id &lt;dbl&gt; | item_id &lt;dbl&gt; | item_name &lt;chr&gt; | date &lt;chr&gt; | date_block_num &lt;dbl&gt; | item_price &lt;dbl&gt; | item_cnt_day.x &lt;dbl&gt; | item_cnt_day.y &lt;dbl&gt; |\n|---|---|---|---|---|---|---|---|---|\n\n",
            "text/latex": "A data.frame: 0 × 9\n\\begin{tabular}{lllllllll}\n category\\_id & shop\\_id & item\\_id & item\\_name & date & date\\_block\\_num & item\\_price & item\\_cnt\\_day.x & item\\_cnt\\_day.y\\\\\n <dbl> & <dbl> & <dbl> & <chr> & <chr> & <dbl> & <dbl> & <dbl> & <dbl>\\\\\n\\hline\n\\end{tabular}\n",
            "text/plain": [
              "     category_id shop_id item_id item_name date date_block_num item_price\n",
              "     item_cnt_day.x item_cnt_day.y"
            ]
          },
          "metadata": {}
        }
      ]
    },
    {
      "cell_type": "markdown",
      "source": [
        "2. Найдите месяцы с минимальными и максимальными продажами для каждого товара из пункта 1.\n"
      ],
      "metadata": {
        "id": "wdJyiaixiBQs"
      }
    },
    {
      "cell_type": "code",
      "source": [
        "min_sales <- top_shops_max %>% group_by(item_id, date_block_num) %>% summarise(item_cnt_day = min(item_cnt_day))\n",
        "min_sales[ , -3]"
      ],
      "metadata": {
        "colab": {
          "base_uri": "https://localhost:8080/",
          "height": 1000
        },
        "id": "DF77eJIZiF9J",
        "outputId": "8f1f5006-f704-4088-d7c4-e8ba86513a16"
      },
      "execution_count": null,
      "outputs": [
        {
          "output_type": "stream",
          "name": "stderr",
          "text": [
            "\u001b[1m\u001b[22m`summarise()` has grouped output by 'item_id'. You can override using the\n",
            "`.groups` argument.\n"
          ]
        },
        {
          "output_type": "display_data",
          "data": {
            "text/html": [
              "<table class=\"dataframe\">\n",
              "<caption>A grouped_df: 40466 × 2</caption>\n",
              "<thead>\n",
              "\t<tr><th scope=col>item_id</th><th scope=col>date_block_num</th></tr>\n",
              "\t<tr><th scope=col>&lt;dbl&gt;</th><th scope=col>&lt;dbl&gt;</th></tr>\n",
              "</thead>\n",
              "<tbody>\n",
              "\t<tr><td> 0</td><td>20</td></tr>\n",
              "\t<tr><td> 2</td><td>19</td></tr>\n",
              "\t<tr><td> 2</td><td>22</td></tr>\n",
              "\t<tr><td> 3</td><td>18</td></tr>\n",
              "\t<tr><td> 3</td><td>19</td></tr>\n",
              "\t<tr><td> 4</td><td>20</td></tr>\n",
              "\t<tr><td> 5</td><td>23</td></tr>\n",
              "\t<tr><td> 6</td><td>18</td></tr>\n",
              "\t<tr><td> 7</td><td>23</td></tr>\n",
              "\t<tr><td> 8</td><td>19</td></tr>\n",
              "\t<tr><td> 8</td><td>20</td></tr>\n",
              "\t<tr><td> 9</td><td>19</td></tr>\n",
              "\t<tr><td>10</td><td>24</td></tr>\n",
              "\t<tr><td>11</td><td>22</td></tr>\n",
              "\t<tr><td>13</td><td>20</td></tr>\n",
              "\t<tr><td>14</td><td>23</td></tr>\n",
              "\t<tr><td>15</td><td>22</td></tr>\n",
              "\t<tr><td>18</td><td>19</td></tr>\n",
              "\t<tr><td>19</td><td> 0</td></tr>\n",
              "\t<tr><td>20</td><td>19</td></tr>\n",
              "\t<tr><td>21</td><td>20</td></tr>\n",
              "\t<tr><td>22</td><td>27</td></tr>\n",
              "\t<tr><td>23</td><td>25</td></tr>\n",
              "\t<tr><td>24</td><td>27</td></tr>\n",
              "\t<tr><td>25</td><td>19</td></tr>\n",
              "\t<tr><td>26</td><td>21</td></tr>\n",
              "\t<tr><td>30</td><td> 1</td></tr>\n",
              "\t<tr><td>30</td><td> 2</td></tr>\n",
              "\t<tr><td>30</td><td> 3</td></tr>\n",
              "\t<tr><td>30</td><td> 4</td></tr>\n",
              "\t<tr><td>⋮</td><td>⋮</td></tr>\n",
              "\t<tr><td>22152</td><td> 5</td></tr>\n",
              "\t<tr><td>22152</td><td> 6</td></tr>\n",
              "\t<tr><td>22152</td><td> 7</td></tr>\n",
              "\t<tr><td>22152</td><td> 8</td></tr>\n",
              "\t<tr><td>22152</td><td> 9</td></tr>\n",
              "\t<tr><td>22152</td><td>10</td></tr>\n",
              "\t<tr><td>22152</td><td>11</td></tr>\n",
              "\t<tr><td>22152</td><td>12</td></tr>\n",
              "\t<tr><td>22152</td><td>13</td></tr>\n",
              "\t<tr><td>22156</td><td> 4</td></tr>\n",
              "\t<tr><td>22156</td><td>12</td></tr>\n",
              "\t<tr><td>22157</td><td> 4</td></tr>\n",
              "\t<tr><td>22157</td><td> 5</td></tr>\n",
              "\t<tr><td>22159</td><td>28</td></tr>\n",
              "\t<tr><td>22159</td><td>29</td></tr>\n",
              "\t<tr><td>22160</td><td> 0</td></tr>\n",
              "\t<tr><td>22160</td><td> 1</td></tr>\n",
              "\t<tr><td>22160</td><td> 2</td></tr>\n",
              "\t<tr><td>22160</td><td> 4</td></tr>\n",
              "\t<tr><td>22160</td><td> 5</td></tr>\n",
              "\t<tr><td>22160</td><td> 7</td></tr>\n",
              "\t<tr><td>22160</td><td> 8</td></tr>\n",
              "\t<tr><td>22162</td><td>25</td></tr>\n",
              "\t<tr><td>22162</td><td>26</td></tr>\n",
              "\t<tr><td>22162</td><td>27</td></tr>\n",
              "\t<tr><td>22162</td><td>28</td></tr>\n",
              "\t<tr><td>22162</td><td>29</td></tr>\n",
              "\t<tr><td>22162</td><td>30</td></tr>\n",
              "\t<tr><td>22162</td><td>31</td></tr>\n",
              "\t<tr><td>22163</td><td>31</td></tr>\n",
              "</tbody>\n",
              "</table>\n"
            ],
            "text/markdown": "\nA grouped_df: 40466 × 2\n\n| item_id &lt;dbl&gt; | date_block_num &lt;dbl&gt; |\n|---|---|\n|  0 | 20 |\n|  2 | 19 |\n|  2 | 22 |\n|  3 | 18 |\n|  3 | 19 |\n|  4 | 20 |\n|  5 | 23 |\n|  6 | 18 |\n|  7 | 23 |\n|  8 | 19 |\n|  8 | 20 |\n|  9 | 19 |\n| 10 | 24 |\n| 11 | 22 |\n| 13 | 20 |\n| 14 | 23 |\n| 15 | 22 |\n| 18 | 19 |\n| 19 |  0 |\n| 20 | 19 |\n| 21 | 20 |\n| 22 | 27 |\n| 23 | 25 |\n| 24 | 27 |\n| 25 | 19 |\n| 26 | 21 |\n| 30 |  1 |\n| 30 |  2 |\n| 30 |  3 |\n| 30 |  4 |\n| ⋮ | ⋮ |\n| 22152 |  5 |\n| 22152 |  6 |\n| 22152 |  7 |\n| 22152 |  8 |\n| 22152 |  9 |\n| 22152 | 10 |\n| 22152 | 11 |\n| 22152 | 12 |\n| 22152 | 13 |\n| 22156 |  4 |\n| 22156 | 12 |\n| 22157 |  4 |\n| 22157 |  5 |\n| 22159 | 28 |\n| 22159 | 29 |\n| 22160 |  0 |\n| 22160 |  1 |\n| 22160 |  2 |\n| 22160 |  4 |\n| 22160 |  5 |\n| 22160 |  7 |\n| 22160 |  8 |\n| 22162 | 25 |\n| 22162 | 26 |\n| 22162 | 27 |\n| 22162 | 28 |\n| 22162 | 29 |\n| 22162 | 30 |\n| 22162 | 31 |\n| 22163 | 31 |\n\n",
            "text/latex": "A grouped\\_df: 40466 × 2\n\\begin{tabular}{ll}\n item\\_id & date\\_block\\_num\\\\\n <dbl> & <dbl>\\\\\n\\hline\n\t  0 & 20\\\\\n\t  2 & 19\\\\\n\t  2 & 22\\\\\n\t  3 & 18\\\\\n\t  3 & 19\\\\\n\t  4 & 20\\\\\n\t  5 & 23\\\\\n\t  6 & 18\\\\\n\t  7 & 23\\\\\n\t  8 & 19\\\\\n\t  8 & 20\\\\\n\t  9 & 19\\\\\n\t 10 & 24\\\\\n\t 11 & 22\\\\\n\t 13 & 20\\\\\n\t 14 & 23\\\\\n\t 15 & 22\\\\\n\t 18 & 19\\\\\n\t 19 &  0\\\\\n\t 20 & 19\\\\\n\t 21 & 20\\\\\n\t 22 & 27\\\\\n\t 23 & 25\\\\\n\t 24 & 27\\\\\n\t 25 & 19\\\\\n\t 26 & 21\\\\\n\t 30 &  1\\\\\n\t 30 &  2\\\\\n\t 30 &  3\\\\\n\t 30 &  4\\\\\n\t ⋮ & ⋮\\\\\n\t 22152 &  5\\\\\n\t 22152 &  6\\\\\n\t 22152 &  7\\\\\n\t 22152 &  8\\\\\n\t 22152 &  9\\\\\n\t 22152 & 10\\\\\n\t 22152 & 11\\\\\n\t 22152 & 12\\\\\n\t 22152 & 13\\\\\n\t 22156 &  4\\\\\n\t 22156 & 12\\\\\n\t 22157 &  4\\\\\n\t 22157 &  5\\\\\n\t 22159 & 28\\\\\n\t 22159 & 29\\\\\n\t 22160 &  0\\\\\n\t 22160 &  1\\\\\n\t 22160 &  2\\\\\n\t 22160 &  4\\\\\n\t 22160 &  5\\\\\n\t 22160 &  7\\\\\n\t 22160 &  8\\\\\n\t 22162 & 25\\\\\n\t 22162 & 26\\\\\n\t 22162 & 27\\\\\n\t 22162 & 28\\\\\n\t 22162 & 29\\\\\n\t 22162 & 30\\\\\n\t 22162 & 31\\\\\n\t 22163 & 31\\\\\n\\end{tabular}\n",
            "text/plain": [
              "      item_id date_block_num\n",
              "1      0      20            \n",
              "2      2      19            \n",
              "3      2      22            \n",
              "4      3      18            \n",
              "5      3      19            \n",
              "6      4      20            \n",
              "7      5      23            \n",
              "8      6      18            \n",
              "9      7      23            \n",
              "10     8      19            \n",
              "11     8      20            \n",
              "12     9      19            \n",
              "13    10      24            \n",
              "14    11      22            \n",
              "15    13      20            \n",
              "16    14      23            \n",
              "17    15      22            \n",
              "18    18      19            \n",
              "19    19       0            \n",
              "20    20      19            \n",
              "21    21      20            \n",
              "22    22      27            \n",
              "23    23      25            \n",
              "24    24      27            \n",
              "25    25      19            \n",
              "26    26      21            \n",
              "27    30       1            \n",
              "28    30       2            \n",
              "29    30       3            \n",
              "30    30       4            \n",
              "⋮     ⋮       ⋮             \n",
              "40437 22152    5            \n",
              "40438 22152    6            \n",
              "40439 22152    7            \n",
              "40440 22152    8            \n",
              "40441 22152    9            \n",
              "40442 22152   10            \n",
              "40443 22152   11            \n",
              "40444 22152   12            \n",
              "40445 22152   13            \n",
              "40446 22156    4            \n",
              "40447 22156   12            \n",
              "40448 22157    4            \n",
              "40449 22157    5            \n",
              "40450 22159   28            \n",
              "40451 22159   29            \n",
              "40452 22160    0            \n",
              "40453 22160    1            \n",
              "40454 22160    2            \n",
              "40455 22160    4            \n",
              "40456 22160    5            \n",
              "40457 22160    7            \n",
              "40458 22160    8            \n",
              "40459 22162   25            \n",
              "40460 22162   26            \n",
              "40461 22162   27            \n",
              "40462 22162   28            \n",
              "40463 22162   29            \n",
              "40464 22162   30            \n",
              "40465 22162   31            \n",
              "40466 22163   31            "
            ]
          },
          "metadata": {}
        }
      ]
    },
    {
      "cell_type": "code",
      "source": [
        "max_sales <- top_shops_max %>% group_by(item_id, date_block_num) %>% summarise(item_cnt_day = max(item_cnt_day))\n",
        "max_sales[ , -3]"
      ],
      "metadata": {
        "colab": {
          "base_uri": "https://localhost:8080/",
          "height": 1000
        },
        "id": "UV-uTbE2jBLV",
        "outputId": "fceb5083-4332-4d82-fad1-c0269447fa97"
      },
      "execution_count": null,
      "outputs": [
        {
          "output_type": "stream",
          "name": "stderr",
          "text": [
            "\u001b[1m\u001b[22m`summarise()` has grouped output by 'item_id'. You can override using the\n",
            "`.groups` argument.\n"
          ]
        },
        {
          "output_type": "display_data",
          "data": {
            "text/html": [
              "<table class=\"dataframe\">\n",
              "<caption>A grouped_df: 40466 × 2</caption>\n",
              "<thead>\n",
              "\t<tr><th scope=col>item_id</th><th scope=col>date_block_num</th></tr>\n",
              "\t<tr><th scope=col>&lt;dbl&gt;</th><th scope=col>&lt;dbl&gt;</th></tr>\n",
              "</thead>\n",
              "<tbody>\n",
              "\t<tr><td> 0</td><td>20</td></tr>\n",
              "\t<tr><td> 2</td><td>19</td></tr>\n",
              "\t<tr><td> 2</td><td>22</td></tr>\n",
              "\t<tr><td> 3</td><td>18</td></tr>\n",
              "\t<tr><td> 3</td><td>19</td></tr>\n",
              "\t<tr><td> 4</td><td>20</td></tr>\n",
              "\t<tr><td> 5</td><td>23</td></tr>\n",
              "\t<tr><td> 6</td><td>18</td></tr>\n",
              "\t<tr><td> 7</td><td>23</td></tr>\n",
              "\t<tr><td> 8</td><td>19</td></tr>\n",
              "\t<tr><td> 8</td><td>20</td></tr>\n",
              "\t<tr><td> 9</td><td>19</td></tr>\n",
              "\t<tr><td>10</td><td>24</td></tr>\n",
              "\t<tr><td>11</td><td>22</td></tr>\n",
              "\t<tr><td>13</td><td>20</td></tr>\n",
              "\t<tr><td>14</td><td>23</td></tr>\n",
              "\t<tr><td>15</td><td>22</td></tr>\n",
              "\t<tr><td>18</td><td>19</td></tr>\n",
              "\t<tr><td>19</td><td> 0</td></tr>\n",
              "\t<tr><td>20</td><td>19</td></tr>\n",
              "\t<tr><td>21</td><td>20</td></tr>\n",
              "\t<tr><td>22</td><td>27</td></tr>\n",
              "\t<tr><td>23</td><td>25</td></tr>\n",
              "\t<tr><td>24</td><td>27</td></tr>\n",
              "\t<tr><td>25</td><td>19</td></tr>\n",
              "\t<tr><td>26</td><td>21</td></tr>\n",
              "\t<tr><td>30</td><td> 1</td></tr>\n",
              "\t<tr><td>30</td><td> 2</td></tr>\n",
              "\t<tr><td>30</td><td> 3</td></tr>\n",
              "\t<tr><td>30</td><td> 4</td></tr>\n",
              "\t<tr><td>⋮</td><td>⋮</td></tr>\n",
              "\t<tr><td>22152</td><td> 5</td></tr>\n",
              "\t<tr><td>22152</td><td> 6</td></tr>\n",
              "\t<tr><td>22152</td><td> 7</td></tr>\n",
              "\t<tr><td>22152</td><td> 8</td></tr>\n",
              "\t<tr><td>22152</td><td> 9</td></tr>\n",
              "\t<tr><td>22152</td><td>10</td></tr>\n",
              "\t<tr><td>22152</td><td>11</td></tr>\n",
              "\t<tr><td>22152</td><td>12</td></tr>\n",
              "\t<tr><td>22152</td><td>13</td></tr>\n",
              "\t<tr><td>22156</td><td> 4</td></tr>\n",
              "\t<tr><td>22156</td><td>12</td></tr>\n",
              "\t<tr><td>22157</td><td> 4</td></tr>\n",
              "\t<tr><td>22157</td><td> 5</td></tr>\n",
              "\t<tr><td>22159</td><td>28</td></tr>\n",
              "\t<tr><td>22159</td><td>29</td></tr>\n",
              "\t<tr><td>22160</td><td> 0</td></tr>\n",
              "\t<tr><td>22160</td><td> 1</td></tr>\n",
              "\t<tr><td>22160</td><td> 2</td></tr>\n",
              "\t<tr><td>22160</td><td> 4</td></tr>\n",
              "\t<tr><td>22160</td><td> 5</td></tr>\n",
              "\t<tr><td>22160</td><td> 7</td></tr>\n",
              "\t<tr><td>22160</td><td> 8</td></tr>\n",
              "\t<tr><td>22162</td><td>25</td></tr>\n",
              "\t<tr><td>22162</td><td>26</td></tr>\n",
              "\t<tr><td>22162</td><td>27</td></tr>\n",
              "\t<tr><td>22162</td><td>28</td></tr>\n",
              "\t<tr><td>22162</td><td>29</td></tr>\n",
              "\t<tr><td>22162</td><td>30</td></tr>\n",
              "\t<tr><td>22162</td><td>31</td></tr>\n",
              "\t<tr><td>22163</td><td>31</td></tr>\n",
              "</tbody>\n",
              "</table>\n"
            ],
            "text/markdown": "\nA grouped_df: 40466 × 2\n\n| item_id &lt;dbl&gt; | date_block_num &lt;dbl&gt; |\n|---|---|\n|  0 | 20 |\n|  2 | 19 |\n|  2 | 22 |\n|  3 | 18 |\n|  3 | 19 |\n|  4 | 20 |\n|  5 | 23 |\n|  6 | 18 |\n|  7 | 23 |\n|  8 | 19 |\n|  8 | 20 |\n|  9 | 19 |\n| 10 | 24 |\n| 11 | 22 |\n| 13 | 20 |\n| 14 | 23 |\n| 15 | 22 |\n| 18 | 19 |\n| 19 |  0 |\n| 20 | 19 |\n| 21 | 20 |\n| 22 | 27 |\n| 23 | 25 |\n| 24 | 27 |\n| 25 | 19 |\n| 26 | 21 |\n| 30 |  1 |\n| 30 |  2 |\n| 30 |  3 |\n| 30 |  4 |\n| ⋮ | ⋮ |\n| 22152 |  5 |\n| 22152 |  6 |\n| 22152 |  7 |\n| 22152 |  8 |\n| 22152 |  9 |\n| 22152 | 10 |\n| 22152 | 11 |\n| 22152 | 12 |\n| 22152 | 13 |\n| 22156 |  4 |\n| 22156 | 12 |\n| 22157 |  4 |\n| 22157 |  5 |\n| 22159 | 28 |\n| 22159 | 29 |\n| 22160 |  0 |\n| 22160 |  1 |\n| 22160 |  2 |\n| 22160 |  4 |\n| 22160 |  5 |\n| 22160 |  7 |\n| 22160 |  8 |\n| 22162 | 25 |\n| 22162 | 26 |\n| 22162 | 27 |\n| 22162 | 28 |\n| 22162 | 29 |\n| 22162 | 30 |\n| 22162 | 31 |\n| 22163 | 31 |\n\n",
            "text/latex": "A grouped\\_df: 40466 × 2\n\\begin{tabular}{ll}\n item\\_id & date\\_block\\_num\\\\\n <dbl> & <dbl>\\\\\n\\hline\n\t  0 & 20\\\\\n\t  2 & 19\\\\\n\t  2 & 22\\\\\n\t  3 & 18\\\\\n\t  3 & 19\\\\\n\t  4 & 20\\\\\n\t  5 & 23\\\\\n\t  6 & 18\\\\\n\t  7 & 23\\\\\n\t  8 & 19\\\\\n\t  8 & 20\\\\\n\t  9 & 19\\\\\n\t 10 & 24\\\\\n\t 11 & 22\\\\\n\t 13 & 20\\\\\n\t 14 & 23\\\\\n\t 15 & 22\\\\\n\t 18 & 19\\\\\n\t 19 &  0\\\\\n\t 20 & 19\\\\\n\t 21 & 20\\\\\n\t 22 & 27\\\\\n\t 23 & 25\\\\\n\t 24 & 27\\\\\n\t 25 & 19\\\\\n\t 26 & 21\\\\\n\t 30 &  1\\\\\n\t 30 &  2\\\\\n\t 30 &  3\\\\\n\t 30 &  4\\\\\n\t ⋮ & ⋮\\\\\n\t 22152 &  5\\\\\n\t 22152 &  6\\\\\n\t 22152 &  7\\\\\n\t 22152 &  8\\\\\n\t 22152 &  9\\\\\n\t 22152 & 10\\\\\n\t 22152 & 11\\\\\n\t 22152 & 12\\\\\n\t 22152 & 13\\\\\n\t 22156 &  4\\\\\n\t 22156 & 12\\\\\n\t 22157 &  4\\\\\n\t 22157 &  5\\\\\n\t 22159 & 28\\\\\n\t 22159 & 29\\\\\n\t 22160 &  0\\\\\n\t 22160 &  1\\\\\n\t 22160 &  2\\\\\n\t 22160 &  4\\\\\n\t 22160 &  5\\\\\n\t 22160 &  7\\\\\n\t 22160 &  8\\\\\n\t 22162 & 25\\\\\n\t 22162 & 26\\\\\n\t 22162 & 27\\\\\n\t 22162 & 28\\\\\n\t 22162 & 29\\\\\n\t 22162 & 30\\\\\n\t 22162 & 31\\\\\n\t 22163 & 31\\\\\n\\end{tabular}\n",
            "text/plain": [
              "      item_id date_block_num\n",
              "1      0      20            \n",
              "2      2      19            \n",
              "3      2      22            \n",
              "4      3      18            \n",
              "5      3      19            \n",
              "6      4      20            \n",
              "7      5      23            \n",
              "8      6      18            \n",
              "9      7      23            \n",
              "10     8      19            \n",
              "11     8      20            \n",
              "12     9      19            \n",
              "13    10      24            \n",
              "14    11      22            \n",
              "15    13      20            \n",
              "16    14      23            \n",
              "17    15      22            \n",
              "18    18      19            \n",
              "19    19       0            \n",
              "20    20      19            \n",
              "21    21      20            \n",
              "22    22      27            \n",
              "23    23      25            \n",
              "24    24      27            \n",
              "25    25      19            \n",
              "26    26      21            \n",
              "27    30       1            \n",
              "28    30       2            \n",
              "29    30       3            \n",
              "30    30       4            \n",
              "⋮     ⋮       ⋮             \n",
              "40437 22152    5            \n",
              "40438 22152    6            \n",
              "40439 22152    7            \n",
              "40440 22152    8            \n",
              "40441 22152    9            \n",
              "40442 22152   10            \n",
              "40443 22152   11            \n",
              "40444 22152   12            \n",
              "40445 22152   13            \n",
              "40446 22156    4            \n",
              "40447 22156   12            \n",
              "40448 22157    4            \n",
              "40449 22157    5            \n",
              "40450 22159   28            \n",
              "40451 22159   29            \n",
              "40452 22160    0            \n",
              "40453 22160    1            \n",
              "40454 22160    2            \n",
              "40455 22160    4            \n",
              "40456 22160    5            \n",
              "40457 22160    7            \n",
              "40458 22160    8            \n",
              "40459 22162   25            \n",
              "40460 22162   26            \n",
              "40461 22162   27            \n",
              "40462 22162   28            \n",
              "40463 22162   29            \n",
              "40464 22162   30            \n",
              "40465 22162   31            \n",
              "40466 22163   31            "
            ]
          },
          "metadata": {}
        }
      ]
    },
    {
      "cell_type": "markdown",
      "source": [
        "# Задание 4"
      ],
      "metadata": {
        "id": "H_N6ranKjquA"
      }
    },
    {
      "cell_type": "markdown",
      "source": [
        "1. Для категорий из задания 2 найдите среднюю и медианную цену по категории в пределах каждого месяца.\n"
      ],
      "metadata": {
        "id": "7Pt4sYyejuHs"
      }
    },
    {
      "cell_type": "code",
      "source": [
        "#mean price for the least popular categories\n",
        "merge(items_ctg, min_ctg, by = \"category_id\") %>% group_by(category_id, date_block_num) %>% summarise(item_price = mean(item_price))"
      ],
      "metadata": {
        "colab": {
          "base_uri": "https://localhost:8080/",
          "height": 195
        },
        "id": "p1PFb8XSjttL",
        "outputId": "92314206-bcc8-4b28-f081-8bd9ab04a7d8"
      },
      "execution_count": null,
      "outputs": [
        {
          "output_type": "stream",
          "name": "stderr",
          "text": [
            "\u001b[1m\u001b[22m`summarise()` has grouped output by 'category_id'. You can override using the\n",
            "`.groups` argument.\n"
          ]
        },
        {
          "output_type": "display_data",
          "data": {
            "text/html": [
              "<table class=\"dataframe\">\n",
              "<caption>A grouped_df: 2 × 3</caption>\n",
              "<thead>\n",
              "\t<tr><th scope=col>category_id</th><th scope=col>date_block_num</th><th scope=col>item_price</th></tr>\n",
              "\t<tr><th scope=col>&lt;dbl&gt;</th><th scope=col>&lt;dbl&gt;</th><th scope=col>&lt;dbl&gt;</th></tr>\n",
              "</thead>\n",
              "<tbody>\n",
              "\t<tr><td>10</td><td> 3</td><td>1998</td></tr>\n",
              "\t<tr><td>51</td><td>18</td><td> 129</td></tr>\n",
              "</tbody>\n",
              "</table>\n"
            ],
            "text/markdown": "\nA grouped_df: 2 × 3\n\n| category_id &lt;dbl&gt; | date_block_num &lt;dbl&gt; | item_price &lt;dbl&gt; |\n|---|---|---|\n| 10 |  3 | 1998 |\n| 51 | 18 |  129 |\n\n",
            "text/latex": "A grouped\\_df: 2 × 3\n\\begin{tabular}{lll}\n category\\_id & date\\_block\\_num & item\\_price\\\\\n <dbl> & <dbl> & <dbl>\\\\\n\\hline\n\t 10 &  3 & 1998\\\\\n\t 51 & 18 &  129\\\\\n\\end{tabular}\n",
            "text/plain": [
              "  category_id date_block_num item_price\n",
              "1 10           3             1998      \n",
              "2 51          18              129      "
            ]
          },
          "metadata": {}
        }
      ]
    },
    {
      "cell_type": "code",
      "source": [
        "#mean price for the most popular category\n",
        "merge(items_ctg, max_ctg, by = \"category_id\") %>% group_by(category_id, date_block_num) %>% summarise(item_price = mean(item_price))"
      ],
      "metadata": {
        "colab": {
          "base_uri": "https://localhost:8080/",
          "height": 1000
        },
        "id": "0Gc5H7Ryk8Fp",
        "outputId": "e97a13d4-cbd5-453f-9e99-eb82f93ea06d"
      },
      "execution_count": null,
      "outputs": [
        {
          "output_type": "stream",
          "name": "stderr",
          "text": [
            "\u001b[1m\u001b[22m`summarise()` has grouped output by 'category_id'. You can override using the\n",
            "`.groups` argument.\n"
          ]
        },
        {
          "output_type": "display_data",
          "data": {
            "text/html": [
              "<table class=\"dataframe\">\n",
              "<caption>A grouped_df: 33 × 3</caption>\n",
              "<thead>\n",
              "\t<tr><th scope=col>category_id</th><th scope=col>date_block_num</th><th scope=col>item_price</th></tr>\n",
              "\t<tr><th scope=col>&lt;dbl&gt;</th><th scope=col>&lt;dbl&gt;</th><th scope=col>&lt;dbl&gt;</th></tr>\n",
              "</thead>\n",
              "<tbody>\n",
              "\t<tr><td>40</td><td> 0</td><td>244.4859</td></tr>\n",
              "\t<tr><td>40</td><td> 1</td><td>252.1749</td></tr>\n",
              "\t<tr><td>40</td><td> 2</td><td>260.6450</td></tr>\n",
              "\t<tr><td>40</td><td> 3</td><td>254.8524</td></tr>\n",
              "\t<tr><td>40</td><td> 4</td><td>247.6276</td></tr>\n",
              "\t<tr><td>40</td><td> 5</td><td>245.8609</td></tr>\n",
              "\t<tr><td>40</td><td> 6</td><td>236.8121</td></tr>\n",
              "\t<tr><td>40</td><td> 7</td><td>234.4702</td></tr>\n",
              "\t<tr><td>40</td><td> 8</td><td>241.8186</td></tr>\n",
              "\t<tr><td>40</td><td> 9</td><td>247.5439</td></tr>\n",
              "\t<tr><td>40</td><td>10</td><td>253.2127</td></tr>\n",
              "\t<tr><td>40</td><td>11</td><td>257.7663</td></tr>\n",
              "\t<tr><td>40</td><td>12</td><td>252.9098</td></tr>\n",
              "\t<tr><td>40</td><td>13</td><td>261.2565</td></tr>\n",
              "\t<tr><td>40</td><td>14</td><td>262.4360</td></tr>\n",
              "\t<tr><td>40</td><td>15</td><td>268.4081</td></tr>\n",
              "\t<tr><td>40</td><td>16</td><td>254.3645</td></tr>\n",
              "\t<tr><td>40</td><td>17</td><td>255.1581</td></tr>\n",
              "\t<tr><td>40</td><td>18</td><td>257.3948</td></tr>\n",
              "\t<tr><td>40</td><td>19</td><td>264.0901</td></tr>\n",
              "\t<tr><td>40</td><td>20</td><td>265.3885</td></tr>\n",
              "\t<tr><td>40</td><td>21</td><td>263.7517</td></tr>\n",
              "\t<tr><td>40</td><td>22</td><td>264.0330</td></tr>\n",
              "\t<tr><td>40</td><td>23</td><td>261.9187</td></tr>\n",
              "\t<tr><td>40</td><td>24</td><td>263.2980</td></tr>\n",
              "\t<tr><td>40</td><td>25</td><td>256.3624</td></tr>\n",
              "\t<tr><td>40</td><td>26</td><td>258.1940</td></tr>\n",
              "\t<tr><td>40</td><td>27</td><td>281.6307</td></tr>\n",
              "\t<tr><td>40</td><td>28</td><td>286.5086</td></tr>\n",
              "\t<tr><td>40</td><td>29</td><td>279.1423</td></tr>\n",
              "\t<tr><td>40</td><td>30</td><td>273.2515</td></tr>\n",
              "\t<tr><td>40</td><td>31</td><td>273.2421</td></tr>\n",
              "\t<tr><td>40</td><td>32</td><td>283.1607</td></tr>\n",
              "</tbody>\n",
              "</table>\n"
            ],
            "text/markdown": "\nA grouped_df: 33 × 3\n\n| category_id &lt;dbl&gt; | date_block_num &lt;dbl&gt; | item_price &lt;dbl&gt; |\n|---|---|---|\n| 40 |  0 | 244.4859 |\n| 40 |  1 | 252.1749 |\n| 40 |  2 | 260.6450 |\n| 40 |  3 | 254.8524 |\n| 40 |  4 | 247.6276 |\n| 40 |  5 | 245.8609 |\n| 40 |  6 | 236.8121 |\n| 40 |  7 | 234.4702 |\n| 40 |  8 | 241.8186 |\n| 40 |  9 | 247.5439 |\n| 40 | 10 | 253.2127 |\n| 40 | 11 | 257.7663 |\n| 40 | 12 | 252.9098 |\n| 40 | 13 | 261.2565 |\n| 40 | 14 | 262.4360 |\n| 40 | 15 | 268.4081 |\n| 40 | 16 | 254.3645 |\n| 40 | 17 | 255.1581 |\n| 40 | 18 | 257.3948 |\n| 40 | 19 | 264.0901 |\n| 40 | 20 | 265.3885 |\n| 40 | 21 | 263.7517 |\n| 40 | 22 | 264.0330 |\n| 40 | 23 | 261.9187 |\n| 40 | 24 | 263.2980 |\n| 40 | 25 | 256.3624 |\n| 40 | 26 | 258.1940 |\n| 40 | 27 | 281.6307 |\n| 40 | 28 | 286.5086 |\n| 40 | 29 | 279.1423 |\n| 40 | 30 | 273.2515 |\n| 40 | 31 | 273.2421 |\n| 40 | 32 | 283.1607 |\n\n",
            "text/latex": "A grouped\\_df: 33 × 3\n\\begin{tabular}{lll}\n category\\_id & date\\_block\\_num & item\\_price\\\\\n <dbl> & <dbl> & <dbl>\\\\\n\\hline\n\t 40 &  0 & 244.4859\\\\\n\t 40 &  1 & 252.1749\\\\\n\t 40 &  2 & 260.6450\\\\\n\t 40 &  3 & 254.8524\\\\\n\t 40 &  4 & 247.6276\\\\\n\t 40 &  5 & 245.8609\\\\\n\t 40 &  6 & 236.8121\\\\\n\t 40 &  7 & 234.4702\\\\\n\t 40 &  8 & 241.8186\\\\\n\t 40 &  9 & 247.5439\\\\\n\t 40 & 10 & 253.2127\\\\\n\t 40 & 11 & 257.7663\\\\\n\t 40 & 12 & 252.9098\\\\\n\t 40 & 13 & 261.2565\\\\\n\t 40 & 14 & 262.4360\\\\\n\t 40 & 15 & 268.4081\\\\\n\t 40 & 16 & 254.3645\\\\\n\t 40 & 17 & 255.1581\\\\\n\t 40 & 18 & 257.3948\\\\\n\t 40 & 19 & 264.0901\\\\\n\t 40 & 20 & 265.3885\\\\\n\t 40 & 21 & 263.7517\\\\\n\t 40 & 22 & 264.0330\\\\\n\t 40 & 23 & 261.9187\\\\\n\t 40 & 24 & 263.2980\\\\\n\t 40 & 25 & 256.3624\\\\\n\t 40 & 26 & 258.1940\\\\\n\t 40 & 27 & 281.6307\\\\\n\t 40 & 28 & 286.5086\\\\\n\t 40 & 29 & 279.1423\\\\\n\t 40 & 30 & 273.2515\\\\\n\t 40 & 31 & 273.2421\\\\\n\t 40 & 32 & 283.1607\\\\\n\\end{tabular}\n",
            "text/plain": [
              "   category_id date_block_num item_price\n",
              "1  40           0             244.4859  \n",
              "2  40           1             252.1749  \n",
              "3  40           2             260.6450  \n",
              "4  40           3             254.8524  \n",
              "5  40           4             247.6276  \n",
              "6  40           5             245.8609  \n",
              "7  40           6             236.8121  \n",
              "8  40           7             234.4702  \n",
              "9  40           8             241.8186  \n",
              "10 40           9             247.5439  \n",
              "11 40          10             253.2127  \n",
              "12 40          11             257.7663  \n",
              "13 40          12             252.9098  \n",
              "14 40          13             261.2565  \n",
              "15 40          14             262.4360  \n",
              "16 40          15             268.4081  \n",
              "17 40          16             254.3645  \n",
              "18 40          17             255.1581  \n",
              "19 40          18             257.3948  \n",
              "20 40          19             264.0901  \n",
              "21 40          20             265.3885  \n",
              "22 40          21             263.7517  \n",
              "23 40          22             264.0330  \n",
              "24 40          23             261.9187  \n",
              "25 40          24             263.2980  \n",
              "26 40          25             256.3624  \n",
              "27 40          26             258.1940  \n",
              "28 40          27             281.6307  \n",
              "29 40          28             286.5086  \n",
              "30 40          29             279.1423  \n",
              "31 40          30             273.2515  \n",
              "32 40          31             273.2421  \n",
              "33 40          32             283.1607  "
            ]
          },
          "metadata": {}
        }
      ]
    },
    {
      "cell_type": "code",
      "source": [
        "#median price for the least popular categories\n",
        "merge(items_ctg, min_ctg, by = \"category_id\") %>% group_by(category_id, date_block_num) %>% summarise(item_price = median(item_price))"
      ],
      "metadata": {
        "colab": {
          "base_uri": "https://localhost:8080/",
          "height": 195
        },
        "id": "82_wvjXBlYOY",
        "outputId": "f884c4bc-1d47-457f-ee92-244a348dd0c1"
      },
      "execution_count": null,
      "outputs": [
        {
          "output_type": "stream",
          "name": "stderr",
          "text": [
            "\u001b[1m\u001b[22m`summarise()` has grouped output by 'category_id'. You can override using the\n",
            "`.groups` argument.\n"
          ]
        },
        {
          "output_type": "display_data",
          "data": {
            "text/html": [
              "<table class=\"dataframe\">\n",
              "<caption>A grouped_df: 2 × 3</caption>\n",
              "<thead>\n",
              "\t<tr><th scope=col>category_id</th><th scope=col>date_block_num</th><th scope=col>item_price</th></tr>\n",
              "\t<tr><th scope=col>&lt;dbl&gt;</th><th scope=col>&lt;dbl&gt;</th><th scope=col>&lt;dbl&gt;</th></tr>\n",
              "</thead>\n",
              "<tbody>\n",
              "\t<tr><td>10</td><td> 3</td><td>1998</td></tr>\n",
              "\t<tr><td>51</td><td>18</td><td> 129</td></tr>\n",
              "</tbody>\n",
              "</table>\n"
            ],
            "text/markdown": "\nA grouped_df: 2 × 3\n\n| category_id &lt;dbl&gt; | date_block_num &lt;dbl&gt; | item_price &lt;dbl&gt; |\n|---|---|---|\n| 10 |  3 | 1998 |\n| 51 | 18 |  129 |\n\n",
            "text/latex": "A grouped\\_df: 2 × 3\n\\begin{tabular}{lll}\n category\\_id & date\\_block\\_num & item\\_price\\\\\n <dbl> & <dbl> & <dbl>\\\\\n\\hline\n\t 10 &  3 & 1998\\\\\n\t 51 & 18 &  129\\\\\n\\end{tabular}\n",
            "text/plain": [
              "  category_id date_block_num item_price\n",
              "1 10           3             1998      \n",
              "2 51          18              129      "
            ]
          },
          "metadata": {}
        }
      ]
    },
    {
      "cell_type": "code",
      "source": [
        "#median price for the most popular category\n",
        "merge(items_ctg, max_ctg, by = \"category_id\") %>% group_by(category_id, date_block_num) %>% summarise(item_price = median(item_price))"
      ],
      "metadata": {
        "colab": {
          "base_uri": "https://localhost:8080/",
          "height": 1000
        },
        "id": "1Wl_XEndlgWY",
        "outputId": "5b329c99-74db-4333-9624-daade1813d49"
      },
      "execution_count": null,
      "outputs": [
        {
          "output_type": "stream",
          "name": "stderr",
          "text": [
            "\u001b[1m\u001b[22m`summarise()` has grouped output by 'category_id'. You can override using the\n",
            "`.groups` argument.\n"
          ]
        },
        {
          "output_type": "display_data",
          "data": {
            "text/html": [
              "<table class=\"dataframe\">\n",
              "<caption>A grouped_df: 33 × 3</caption>\n",
              "<thead>\n",
              "\t<tr><th scope=col>category_id</th><th scope=col>date_block_num</th><th scope=col>item_price</th></tr>\n",
              "\t<tr><th scope=col>&lt;dbl&gt;</th><th scope=col>&lt;dbl&gt;</th><th scope=col>&lt;dbl&gt;</th></tr>\n",
              "</thead>\n",
              "<tbody>\n",
              "\t<tr><td>40</td><td> 0</td><td>199.00</td></tr>\n",
              "\t<tr><td>40</td><td> 1</td><td>203.00</td></tr>\n",
              "\t<tr><td>40</td><td> 2</td><td>231.00</td></tr>\n",
              "\t<tr><td>40</td><td> 3</td><td>199.00</td></tr>\n",
              "\t<tr><td>40</td><td> 4</td><td>199.00</td></tr>\n",
              "\t<tr><td>40</td><td> 5</td><td>199.00</td></tr>\n",
              "\t<tr><td>40</td><td> 6</td><td>149.00</td></tr>\n",
              "\t<tr><td>40</td><td> 7</td><td>149.00</td></tr>\n",
              "\t<tr><td>40</td><td> 8</td><td>198.00</td></tr>\n",
              "\t<tr><td>40</td><td> 9</td><td>199.00</td></tr>\n",
              "\t<tr><td>40</td><td>10</td><td>199.00</td></tr>\n",
              "\t<tr><td>40</td><td>11</td><td>237.00</td></tr>\n",
              "\t<tr><td>40</td><td>12</td><td>199.00</td></tr>\n",
              "\t<tr><td>40</td><td>13</td><td>248.00</td></tr>\n",
              "\t<tr><td>40</td><td>14</td><td>251.00</td></tr>\n",
              "\t<tr><td>40</td><td>15</td><td>249.00</td></tr>\n",
              "\t<tr><td>40</td><td>16</td><td>199.00</td></tr>\n",
              "\t<tr><td>40</td><td>17</td><td>199.00</td></tr>\n",
              "\t<tr><td>40</td><td>18</td><td>199.00</td></tr>\n",
              "\t<tr><td>40</td><td>19</td><td>199.00</td></tr>\n",
              "\t<tr><td>40</td><td>20</td><td>240.00</td></tr>\n",
              "\t<tr><td>40</td><td>21</td><td>199.00</td></tr>\n",
              "\t<tr><td>40</td><td>22</td><td>199.00</td></tr>\n",
              "\t<tr><td>40</td><td>23</td><td>199.00</td></tr>\n",
              "\t<tr><td>40</td><td>24</td><td>200.78</td></tr>\n",
              "\t<tr><td>40</td><td>25</td><td>199.00</td></tr>\n",
              "\t<tr><td>40</td><td>26</td><td>169.00</td></tr>\n",
              "\t<tr><td>40</td><td>27</td><td>299.00</td></tr>\n",
              "\t<tr><td>40</td><td>28</td><td>299.00</td></tr>\n",
              "\t<tr><td>40</td><td>29</td><td>249.00</td></tr>\n",
              "\t<tr><td>40</td><td>30</td><td>199.00</td></tr>\n",
              "\t<tr><td>40</td><td>31</td><td>249.00</td></tr>\n",
              "\t<tr><td>40</td><td>32</td><td>299.00</td></tr>\n",
              "</tbody>\n",
              "</table>\n"
            ],
            "text/markdown": "\nA grouped_df: 33 × 3\n\n| category_id &lt;dbl&gt; | date_block_num &lt;dbl&gt; | item_price &lt;dbl&gt; |\n|---|---|---|\n| 40 |  0 | 199.00 |\n| 40 |  1 | 203.00 |\n| 40 |  2 | 231.00 |\n| 40 |  3 | 199.00 |\n| 40 |  4 | 199.00 |\n| 40 |  5 | 199.00 |\n| 40 |  6 | 149.00 |\n| 40 |  7 | 149.00 |\n| 40 |  8 | 198.00 |\n| 40 |  9 | 199.00 |\n| 40 | 10 | 199.00 |\n| 40 | 11 | 237.00 |\n| 40 | 12 | 199.00 |\n| 40 | 13 | 248.00 |\n| 40 | 14 | 251.00 |\n| 40 | 15 | 249.00 |\n| 40 | 16 | 199.00 |\n| 40 | 17 | 199.00 |\n| 40 | 18 | 199.00 |\n| 40 | 19 | 199.00 |\n| 40 | 20 | 240.00 |\n| 40 | 21 | 199.00 |\n| 40 | 22 | 199.00 |\n| 40 | 23 | 199.00 |\n| 40 | 24 | 200.78 |\n| 40 | 25 | 199.00 |\n| 40 | 26 | 169.00 |\n| 40 | 27 | 299.00 |\n| 40 | 28 | 299.00 |\n| 40 | 29 | 249.00 |\n| 40 | 30 | 199.00 |\n| 40 | 31 | 249.00 |\n| 40 | 32 | 299.00 |\n\n",
            "text/latex": "A grouped\\_df: 33 × 3\n\\begin{tabular}{lll}\n category\\_id & date\\_block\\_num & item\\_price\\\\\n <dbl> & <dbl> & <dbl>\\\\\n\\hline\n\t 40 &  0 & 199.00\\\\\n\t 40 &  1 & 203.00\\\\\n\t 40 &  2 & 231.00\\\\\n\t 40 &  3 & 199.00\\\\\n\t 40 &  4 & 199.00\\\\\n\t 40 &  5 & 199.00\\\\\n\t 40 &  6 & 149.00\\\\\n\t 40 &  7 & 149.00\\\\\n\t 40 &  8 & 198.00\\\\\n\t 40 &  9 & 199.00\\\\\n\t 40 & 10 & 199.00\\\\\n\t 40 & 11 & 237.00\\\\\n\t 40 & 12 & 199.00\\\\\n\t 40 & 13 & 248.00\\\\\n\t 40 & 14 & 251.00\\\\\n\t 40 & 15 & 249.00\\\\\n\t 40 & 16 & 199.00\\\\\n\t 40 & 17 & 199.00\\\\\n\t 40 & 18 & 199.00\\\\\n\t 40 & 19 & 199.00\\\\\n\t 40 & 20 & 240.00\\\\\n\t 40 & 21 & 199.00\\\\\n\t 40 & 22 & 199.00\\\\\n\t 40 & 23 & 199.00\\\\\n\t 40 & 24 & 200.78\\\\\n\t 40 & 25 & 199.00\\\\\n\t 40 & 26 & 169.00\\\\\n\t 40 & 27 & 299.00\\\\\n\t 40 & 28 & 299.00\\\\\n\t 40 & 29 & 249.00\\\\\n\t 40 & 30 & 199.00\\\\\n\t 40 & 31 & 249.00\\\\\n\t 40 & 32 & 299.00\\\\\n\\end{tabular}\n",
            "text/plain": [
              "   category_id date_block_num item_price\n",
              "1  40           0             199.00    \n",
              "2  40           1             203.00    \n",
              "3  40           2             231.00    \n",
              "4  40           3             199.00    \n",
              "5  40           4             199.00    \n",
              "6  40           5             199.00    \n",
              "7  40           6             149.00    \n",
              "8  40           7             149.00    \n",
              "9  40           8             198.00    \n",
              "10 40           9             199.00    \n",
              "11 40          10             199.00    \n",
              "12 40          11             237.00    \n",
              "13 40          12             199.00    \n",
              "14 40          13             248.00    \n",
              "15 40          14             251.00    \n",
              "16 40          15             249.00    \n",
              "17 40          16             199.00    \n",
              "18 40          17             199.00    \n",
              "19 40          18             199.00    \n",
              "20 40          19             199.00    \n",
              "21 40          20             240.00    \n",
              "22 40          21             199.00    \n",
              "23 40          22             199.00    \n",
              "24 40          23             199.00    \n",
              "25 40          24             200.78    \n",
              "26 40          25             199.00    \n",
              "27 40          26             169.00    \n",
              "28 40          27             299.00    \n",
              "29 40          28             299.00    \n",
              "30 40          29             249.00    \n",
              "31 40          30             199.00    \n",
              "32 40          31             249.00    \n",
              "33 40          32             299.00    "
            ]
          },
          "metadata": {}
        }
      ]
    },
    {
      "cell_type": "markdown",
      "source": [
        "2. В каждом году найдите месяцы, в которых средняя цена меньше, чем в предыдущем и следующем месяце."
      ],
      "metadata": {
        "id": "iZAJygIOlmje"
      }
    },
    {
      "cell_type": "code",
      "source": [
        "months <- items_ctg %>% group_by(date_block_num) %>% summarise(item_price = mean(item_price))\n",
        "months[months] #not fifnished tho.."
      ],
      "metadata": {
        "colab": {
          "base_uri": "https://localhost:8080/",
          "height": 1000
        },
        "id": "fnhdgTs7lpbp",
        "outputId": "4e4093ce-9e15-4d4d-c32a-32eee73c0057"
      },
      "execution_count": null,
      "outputs": [
        {
          "output_type": "display_data",
          "data": {
            "text/html": [
              "<table class=\"dataframe\">\n",
              "<caption>A tibble: 33 × 2</caption>\n",
              "<thead>\n",
              "\t<tr><th scope=col>date_block_num</th><th scope=col>item_price</th></tr>\n",
              "\t<tr><th scope=col>&lt;dbl&gt;</th><th scope=col>&lt;dbl&gt;</th></tr>\n",
              "</thead>\n",
              "<tbody>\n",
              "\t<tr><td> 0</td><td> 710.6221</td></tr>\n",
              "\t<tr><td> 1</td><td> 695.8669</td></tr>\n",
              "\t<tr><td> 2</td><td> 694.6881</td></tr>\n",
              "\t<tr><td> 3</td><td> 653.6338</td></tr>\n",
              "\t<tr><td> 4</td><td> 624.1800</td></tr>\n",
              "\t<tr><td> 5</td><td> 630.8936</td></tr>\n",
              "\t<tr><td> 6</td><td> 618.5782</td></tr>\n",
              "\t<tr><td> 7</td><td> 624.5769</td></tr>\n",
              "\t<tr><td> 8</td><td> 756.2288</td></tr>\n",
              "\t<tr><td> 9</td><td> 784.6433</td></tr>\n",
              "\t<tr><td>10</td><td> 822.9499</td></tr>\n",
              "\t<tr><td>11</td><td> 999.5388</td></tr>\n",
              "\t<tr><td>12</td><td> 862.8691</td></tr>\n",
              "\t<tr><td>13</td><td> 866.4483</td></tr>\n",
              "\t<tr><td>14</td><td> 901.0682</td></tr>\n",
              "\t<tr><td>15</td><td> 852.1602</td></tr>\n",
              "\t<tr><td>16</td><td> 860.0392</td></tr>\n",
              "\t<tr><td>17</td><td> 873.5382</td></tr>\n",
              "\t<tr><td>18</td><td> 847.0464</td></tr>\n",
              "\t<tr><td>19</td><td> 886.8797</td></tr>\n",
              "\t<tr><td>20</td><td>1057.3818</td></tr>\n",
              "\t<tr><td>21</td><td>1069.6590</td></tr>\n",
              "\t<tr><td>22</td><td>1218.8737</td></tr>\n",
              "\t<tr><td>23</td><td>1371.7501</td></tr>\n",
              "\t<tr><td>24</td><td>1136.1425</td></tr>\n",
              "\t<tr><td>25</td><td>1010.4654</td></tr>\n",
              "\t<tr><td>26</td><td>1021.1701</td></tr>\n",
              "\t<tr><td>27</td><td>1047.9427</td></tr>\n",
              "\t<tr><td>28</td><td>1076.8995</td></tr>\n",
              "\t<tr><td>29</td><td>1020.4375</td></tr>\n",
              "\t<tr><td>30</td><td> 966.8284</td></tr>\n",
              "\t<tr><td>31</td><td> 951.3741</td></tr>\n",
              "\t<tr><td>32</td><td> 805.1060</td></tr>\n",
              "</tbody>\n",
              "</table>\n"
            ],
            "text/markdown": "\nA tibble: 33 × 2\n\n| date_block_num &lt;dbl&gt; | item_price &lt;dbl&gt; |\n|---|---|\n|  0 |  710.6221 |\n|  1 |  695.8669 |\n|  2 |  694.6881 |\n|  3 |  653.6338 |\n|  4 |  624.1800 |\n|  5 |  630.8936 |\n|  6 |  618.5782 |\n|  7 |  624.5769 |\n|  8 |  756.2288 |\n|  9 |  784.6433 |\n| 10 |  822.9499 |\n| 11 |  999.5388 |\n| 12 |  862.8691 |\n| 13 |  866.4483 |\n| 14 |  901.0682 |\n| 15 |  852.1602 |\n| 16 |  860.0392 |\n| 17 |  873.5382 |\n| 18 |  847.0464 |\n| 19 |  886.8797 |\n| 20 | 1057.3818 |\n| 21 | 1069.6590 |\n| 22 | 1218.8737 |\n| 23 | 1371.7501 |\n| 24 | 1136.1425 |\n| 25 | 1010.4654 |\n| 26 | 1021.1701 |\n| 27 | 1047.9427 |\n| 28 | 1076.8995 |\n| 29 | 1020.4375 |\n| 30 |  966.8284 |\n| 31 |  951.3741 |\n| 32 |  805.1060 |\n\n",
            "text/latex": "A tibble: 33 × 2\n\\begin{tabular}{ll}\n date\\_block\\_num & item\\_price\\\\\n <dbl> & <dbl>\\\\\n\\hline\n\t  0 &  710.6221\\\\\n\t  1 &  695.8669\\\\\n\t  2 &  694.6881\\\\\n\t  3 &  653.6338\\\\\n\t  4 &  624.1800\\\\\n\t  5 &  630.8936\\\\\n\t  6 &  618.5782\\\\\n\t  7 &  624.5769\\\\\n\t  8 &  756.2288\\\\\n\t  9 &  784.6433\\\\\n\t 10 &  822.9499\\\\\n\t 11 &  999.5388\\\\\n\t 12 &  862.8691\\\\\n\t 13 &  866.4483\\\\\n\t 14 &  901.0682\\\\\n\t 15 &  852.1602\\\\\n\t 16 &  860.0392\\\\\n\t 17 &  873.5382\\\\\n\t 18 &  847.0464\\\\\n\t 19 &  886.8797\\\\\n\t 20 & 1057.3818\\\\\n\t 21 & 1069.6590\\\\\n\t 22 & 1218.8737\\\\\n\t 23 & 1371.7501\\\\\n\t 24 & 1136.1425\\\\\n\t 25 & 1010.4654\\\\\n\t 26 & 1021.1701\\\\\n\t 27 & 1047.9427\\\\\n\t 28 & 1076.8995\\\\\n\t 29 & 1020.4375\\\\\n\t 30 &  966.8284\\\\\n\t 31 &  951.3741\\\\\n\t 32 &  805.1060\\\\\n\\end{tabular}\n",
            "text/plain": [
              "   date_block_num item_price\n",
              "1   0              710.6221 \n",
              "2   1              695.8669 \n",
              "3   2              694.6881 \n",
              "4   3              653.6338 \n",
              "5   4              624.1800 \n",
              "6   5              630.8936 \n",
              "7   6              618.5782 \n",
              "8   7              624.5769 \n",
              "9   8              756.2288 \n",
              "10  9              784.6433 \n",
              "11 10              822.9499 \n",
              "12 11              999.5388 \n",
              "13 12              862.8691 \n",
              "14 13              866.4483 \n",
              "15 14              901.0682 \n",
              "16 15              852.1602 \n",
              "17 16              860.0392 \n",
              "18 17              873.5382 \n",
              "19 18              847.0464 \n",
              "20 19              886.8797 \n",
              "21 20             1057.3818 \n",
              "22 21             1069.6590 \n",
              "23 22             1218.8737 \n",
              "24 23             1371.7501 \n",
              "25 24             1136.1425 \n",
              "26 25             1010.4654 \n",
              "27 26             1021.1701 \n",
              "28 27             1047.9427 \n",
              "29 28             1076.8995 \n",
              "30 29             1020.4375 \n",
              "31 30              966.8284 \n",
              "32 31              951.3741 \n",
              "33 32              805.1060 "
            ]
          },
          "metadata": {}
        }
      ]
    }
  ]
}